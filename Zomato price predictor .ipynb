{
 "cells": [
  {
   "cell_type": "code",
   "execution_count": 75,
   "metadata": {},
   "outputs": [],
   "source": [
    "import numpy as np\n",
    "import pandas as pd"
   ]
  },
  {
   "cell_type": "code",
   "execution_count": 76,
   "metadata": {},
   "outputs": [],
   "source": [
    "data=pd.read_csv('zomato.csv',encoding='latin-1')"
   ]
  },
  {
   "cell_type": "markdown",
   "metadata": {},
   "source": [
    "# Data Exploration and Cleaning"
   ]
  },
  {
   "cell_type": "code",
   "execution_count": 79,
   "metadata": {},
   "outputs": [
    {
     "data": {
      "text/plain": [
       "(9551, 21)"
      ]
     },
     "execution_count": 79,
     "metadata": {},
     "output_type": "execute_result"
    }
   ],
   "source": [
    "data.shape"
   ]
  },
  {
   "cell_type": "code",
   "execution_count": 80,
   "metadata": {},
   "outputs": [
    {
     "data": {
      "text/html": [
       "<div>\n",
       "<style scoped>\n",
       "    .dataframe tbody tr th:only-of-type {\n",
       "        vertical-align: middle;\n",
       "    }\n",
       "\n",
       "    .dataframe tbody tr th {\n",
       "        vertical-align: top;\n",
       "    }\n",
       "\n",
       "    .dataframe thead th {\n",
       "        text-align: right;\n",
       "    }\n",
       "</style>\n",
       "<table border=\"1\" class=\"dataframe\">\n",
       "  <thead>\n",
       "    <tr style=\"text-align: right;\">\n",
       "      <th></th>\n",
       "      <th>Restaurant ID</th>\n",
       "      <th>Restaurant Name</th>\n",
       "      <th>Country Code</th>\n",
       "      <th>City</th>\n",
       "      <th>Address</th>\n",
       "      <th>Locality</th>\n",
       "      <th>Locality Verbose</th>\n",
       "      <th>Longitude</th>\n",
       "      <th>Latitude</th>\n",
       "      <th>Cuisines</th>\n",
       "      <th>...</th>\n",
       "      <th>Currency</th>\n",
       "      <th>Has Table booking</th>\n",
       "      <th>Has Online delivery</th>\n",
       "      <th>Is delivering now</th>\n",
       "      <th>Switch to order menu</th>\n",
       "      <th>Price range</th>\n",
       "      <th>Aggregate rating</th>\n",
       "      <th>Rating color</th>\n",
       "      <th>Rating text</th>\n",
       "      <th>Votes</th>\n",
       "    </tr>\n",
       "  </thead>\n",
       "  <tbody>\n",
       "    <tr>\n",
       "      <th>0</th>\n",
       "      <td>6317637</td>\n",
       "      <td>Le Petit Souffle</td>\n",
       "      <td>162</td>\n",
       "      <td>Makati City</td>\n",
       "      <td>Third Floor, Century City Mall, Kalayaan Avenu...</td>\n",
       "      <td>Century City Mall, Poblacion, Makati City</td>\n",
       "      <td>Century City Mall, Poblacion, Makati City, Mak...</td>\n",
       "      <td>121.027535</td>\n",
       "      <td>14.565443</td>\n",
       "      <td>French, Japanese, Desserts</td>\n",
       "      <td>...</td>\n",
       "      <td>Botswana Pula(P)</td>\n",
       "      <td>Yes</td>\n",
       "      <td>No</td>\n",
       "      <td>No</td>\n",
       "      <td>No</td>\n",
       "      <td>3</td>\n",
       "      <td>4.8</td>\n",
       "      <td>Dark Green</td>\n",
       "      <td>Excellent</td>\n",
       "      <td>314</td>\n",
       "    </tr>\n",
       "    <tr>\n",
       "      <th>1</th>\n",
       "      <td>6304287</td>\n",
       "      <td>Izakaya Kikufuji</td>\n",
       "      <td>162</td>\n",
       "      <td>Makati City</td>\n",
       "      <td>Little Tokyo, 2277 Chino Roces Avenue, Legaspi...</td>\n",
       "      <td>Little Tokyo, Legaspi Village, Makati City</td>\n",
       "      <td>Little Tokyo, Legaspi Village, Makati City, Ma...</td>\n",
       "      <td>121.014101</td>\n",
       "      <td>14.553708</td>\n",
       "      <td>Japanese</td>\n",
       "      <td>...</td>\n",
       "      <td>Botswana Pula(P)</td>\n",
       "      <td>Yes</td>\n",
       "      <td>No</td>\n",
       "      <td>No</td>\n",
       "      <td>No</td>\n",
       "      <td>3</td>\n",
       "      <td>4.5</td>\n",
       "      <td>Dark Green</td>\n",
       "      <td>Excellent</td>\n",
       "      <td>591</td>\n",
       "    </tr>\n",
       "  </tbody>\n",
       "</table>\n",
       "<p>2 rows × 21 columns</p>\n",
       "</div>"
      ],
      "text/plain": [
       "   Restaurant ID   Restaurant Name  Country Code         City  \\\n",
       "0        6317637  Le Petit Souffle           162  Makati City   \n",
       "1        6304287  Izakaya Kikufuji           162  Makati City   \n",
       "\n",
       "                                             Address  \\\n",
       "0  Third Floor, Century City Mall, Kalayaan Avenu...   \n",
       "1  Little Tokyo, 2277 Chino Roces Avenue, Legaspi...   \n",
       "\n",
       "                                     Locality  \\\n",
       "0   Century City Mall, Poblacion, Makati City   \n",
       "1  Little Tokyo, Legaspi Village, Makati City   \n",
       "\n",
       "                                    Locality Verbose   Longitude   Latitude  \\\n",
       "0  Century City Mall, Poblacion, Makati City, Mak...  121.027535  14.565443   \n",
       "1  Little Tokyo, Legaspi Village, Makati City, Ma...  121.014101  14.553708   \n",
       "\n",
       "                     Cuisines  ...           Currency Has Table booking  \\\n",
       "0  French, Japanese, Desserts  ...   Botswana Pula(P)               Yes   \n",
       "1                    Japanese  ...   Botswana Pula(P)               Yes   \n",
       "\n",
       "  Has Online delivery Is delivering now Switch to order menu Price range  \\\n",
       "0                  No                No                   No           3   \n",
       "1                  No                No                   No           3   \n",
       "\n",
       "   Aggregate rating  Rating color Rating text Votes  \n",
       "0               4.8    Dark Green   Excellent   314  \n",
       "1               4.5    Dark Green   Excellent   591  \n",
       "\n",
       "[2 rows x 21 columns]"
      ]
     },
     "execution_count": 80,
     "metadata": {},
     "output_type": "execute_result"
    }
   ],
   "source": [
    "data.head(2)"
   ]
  },
  {
   "cell_type": "code",
   "execution_count": 81,
   "metadata": {},
   "outputs": [
    {
     "data": {
      "text/plain": [
       "Index(['Restaurant ID', 'Restaurant Name', 'Country Code', 'City', 'Address',\n",
       "       'Locality', 'Locality Verbose', 'Longitude', 'Latitude', 'Cuisines',\n",
       "       'Average Cost for two', 'Currency', 'Has Table booking',\n",
       "       'Has Online delivery', 'Is delivering now', 'Switch to order menu',\n",
       "       'Price range', 'Aggregate rating', 'Rating color', 'Rating text',\n",
       "       'Votes'],\n",
       "      dtype='object')"
      ]
     },
     "execution_count": 81,
     "metadata": {},
     "output_type": "execute_result"
    }
   ],
   "source": [
    "data.columns"
   ]
  },
  {
   "cell_type": "code",
   "execution_count": 82,
   "metadata": {},
   "outputs": [],
   "source": [
    "data.drop(columns=['Restaurant ID','Is delivering now'],inplace=True)"
   ]
  },
  {
   "cell_type": "code",
   "execution_count": 83,
   "metadata": {},
   "outputs": [
    {
     "data": {
      "text/plain": [
       "Index(['Restaurant Name', 'Country Code', 'City', 'Address', 'Locality',\n",
       "       'Locality Verbose', 'Longitude', 'Latitude', 'Cuisines',\n",
       "       'Average Cost for two', 'Currency', 'Has Table booking',\n",
       "       'Has Online delivery', 'Switch to order menu', 'Price range',\n",
       "       'Aggregate rating', 'Rating color', 'Rating text', 'Votes'],\n",
       "      dtype='object')"
      ]
     },
     "execution_count": 83,
     "metadata": {},
     "output_type": "execute_result"
    }
   ],
   "source": [
    "data.columns"
   ]
  },
  {
   "cell_type": "code",
   "execution_count": 84,
   "metadata": {},
   "outputs": [
    {
     "data": {
      "text/plain": [
       "15"
      ]
     },
     "execution_count": 84,
     "metadata": {},
     "output_type": "execute_result"
    }
   ],
   "source": [
    "data['Country Code'].nunique()"
   ]
  },
  {
   "cell_type": "code",
   "execution_count": 85,
   "metadata": {},
   "outputs": [
    {
     "data": {
      "text/plain": [
       "1      8652\n",
       "216     434\n",
       "215      80\n",
       "214      60\n",
       "30       60\n",
       "189      60\n",
       "148      40\n",
       "208      34\n",
       "14       24\n",
       "162      22\n",
       "94       21\n",
       "191      20\n",
       "166      20\n",
       "184      20\n",
       "37        4\n",
       "Name: Country Code, dtype: int64"
      ]
     },
     "execution_count": 85,
     "metadata": {},
     "output_type": "execute_result"
    }
   ],
   "source": [
    "data['Country Code'].value_counts()"
   ]
  },
  {
   "cell_type": "code",
   "execution_count": 86,
   "metadata": {},
   "outputs": [],
   "source": [
    "mask=data['Country Code']==1\n",
    "\n",
    "data=data[mask]"
   ]
  },
  {
   "cell_type": "code",
   "execution_count": 87,
   "metadata": {},
   "outputs": [
    {
     "data": {
      "text/plain": [
       "(8652, 19)"
      ]
     },
     "execution_count": 87,
     "metadata": {},
     "output_type": "execute_result"
    }
   ],
   "source": [
    "data.shape"
   ]
  },
  {
   "cell_type": "code",
   "execution_count": 88,
   "metadata": {},
   "outputs": [],
   "source": [
    "data.drop(columns=['Country Code','Currency'],inplace=True)"
   ]
  },
  {
   "cell_type": "code",
   "execution_count": 89,
   "metadata": {},
   "outputs": [
    {
     "data": {
      "text/plain": [
       "Index(['Restaurant Name', 'City', 'Address', 'Locality', 'Locality Verbose',\n",
       "       'Longitude', 'Latitude', 'Cuisines', 'Average Cost for two',\n",
       "       'Has Table booking', 'Has Online delivery', 'Switch to order menu',\n",
       "       'Price range', 'Aggregate rating', 'Rating color', 'Rating text',\n",
       "       'Votes'],\n",
       "      dtype='object')"
      ]
     },
     "execution_count": 89,
     "metadata": {},
     "output_type": "execute_result"
    }
   ],
   "source": [
    "data.columns"
   ]
  },
  {
   "cell_type": "code",
   "execution_count": 90,
   "metadata": {},
   "outputs": [
    {
     "data": {
      "text/plain": [
       "New Delhi       5473\n",
       "Gurgaon         1118\n",
       "Noida           1080\n",
       "Faridabad        251\n",
       "Ghaziabad         25\n",
       "Bhubaneshwar      21\n",
       "Lucknow           21\n",
       "Amritsar          21\n",
       "Ahmedabad         21\n",
       "Guwahati          21\n",
       "Patna             20\n",
       "Pune              20\n",
       "Coimbatore        20\n",
       "Nagpur            20\n",
       "Aurangabad        20\n",
       "Chennai           20\n",
       "Kochi             20\n",
       "Jaipur            20\n",
       "Kanpur            20\n",
       "Puducherry        20\n",
       "Kolkata           20\n",
       "Vadodara          20\n",
       "Goa               20\n",
       "Dehradun          20\n",
       "Agra              20\n",
       "Ranchi            20\n",
       "Ludhiana          20\n",
       "Bangalore         20\n",
       "Vizag             20\n",
       "Mumbai            20\n",
       "Varanasi          20\n",
       "Allahabad         20\n",
       "Surat             20\n",
       "Indore            20\n",
       "Mysore            20\n",
       "Mangalore         20\n",
       "Nashik            20\n",
       "Bhopal            20\n",
       "Hyderabad         18\n",
       "Chandigarh        18\n",
       "Secunderabad       2\n",
       "Panchkula          1\n",
       "Mohali             1\n",
       "Name: City, dtype: int64"
      ]
     },
     "execution_count": 90,
     "metadata": {},
     "output_type": "execute_result"
    }
   ],
   "source": [
    "data['City'].value_counts()"
   ]
  },
  {
   "cell_type": "code",
   "execution_count": 91,
   "metadata": {},
   "outputs": [
    {
     "data": {
      "text/plain": [
       "(7671, 17)"
      ]
     },
     "execution_count": 91,
     "metadata": {},
     "output_type": "execute_result"
    }
   ],
   "source": [
    "mask=data['City'].isin(['New Delhi','Gurgaon','Noida'])\n",
    "data=data[mask]\n",
    "data.shape"
   ]
  },
  {
   "cell_type": "code",
   "execution_count": 92,
   "metadata": {},
   "outputs": [
    {
     "data": {
      "text/plain": [
       "Index(['Restaurant Name', 'City', 'Address', 'Locality', 'Locality Verbose',\n",
       "       'Longitude', 'Latitude', 'Cuisines', 'Average Cost for two',\n",
       "       'Has Table booking', 'Has Online delivery', 'Switch to order menu',\n",
       "       'Price range', 'Aggregate rating', 'Rating color', 'Rating text',\n",
       "       'Votes'],\n",
       "      dtype='object')"
      ]
     },
     "execution_count": 92,
     "metadata": {},
     "output_type": "execute_result"
    }
   ],
   "source": [
    "data.columns"
   ]
  },
  {
   "cell_type": "code",
   "execution_count": 93,
   "metadata": {},
   "outputs": [
    {
     "data": {
      "text/plain": [
       "Cafe Coffee Day                 81\n",
       "Domino's Pizza                  75\n",
       "Subway                          60\n",
       "Green Chick Chop                47\n",
       "McDonald's                      44\n",
       "Keventers                       33\n",
       "Giani                           28\n",
       "Baskin Robbins                  26\n",
       "Barista                         21\n",
       "Pizza Hut                       20\n",
       "Giani's                         20\n",
       "Dunkin' Donuts                  20\n",
       "Wah Ji Wah                      19\n",
       "Costa Coffee                    19\n",
       "Pizza Hut Delivery              19\n",
       "Chaayos                         18\n",
       "Twenty Four Seven               18\n",
       "Starbucks                       17\n",
       "Republic of Chicken             17\n",
       "Sagar Ratna                     17\n",
       "Pind Balluchi                   16\n",
       "Haldiram's                      15\n",
       "Aggarwal Sweets                 14\n",
       "Bikanervala                     14\n",
       "Burger King                     14\n",
       "KFC                             13\n",
       "Moti Mahal Delux                13\n",
       "Behrouz Biryani                 13\n",
       "Shree Rathnam                   13\n",
       "Bikaner Sweets                  13\n",
       "                                ..\n",
       "The Test                         1\n",
       "Laxmi Ice Cream Parlour          1\n",
       "Pindi Meat                       1\n",
       "Advance Bakery                   1\n",
       "China Hot Pot                    1\n",
       "Batra Chinese Food & Chaap       1\n",
       "Smokey Flavours                  1\n",
       "Rock n Wood Cafe                 1\n",
       "Annapurna Bhojnalaya             1\n",
       "Slurp Pasta Express              1\n",
       "Sethi's Express                  1\n",
       "Dee The Baker                    1\n",
       "Cake'ry                          1\n",
       "Veer Jee                         1\n",
       "Lobby Lounge - Crowne Plaza      1\n",
       "The Gourmet Shop - The Uppal     1\n",
       "Kumar Sweet House                1\n",
       "Last Bencher's                   1\n",
       "NIK's Chicken Corner             1\n",
       "Bunker                           1\n",
       "Jain Coffee House                1\n",
       "Curry N' Tandoor                 1\n",
       "Shri Gujrat Namkeen Bhandar      1\n",
       "New Open Restaurant              1\n",
       "Soni Bakers                      1\n",
       "August Moon                      1\n",
       "Foodies Park                     1\n",
       "Refuel                           1\n",
       "Aggarwal's Sweets                1\n",
       "Cafe Dalal Street                1\n",
       "Name: Restaurant Name, Length: 5834, dtype: int64"
      ]
     },
     "execution_count": 93,
     "metadata": {},
     "output_type": "execute_result"
    }
   ],
   "source": [
    "data['Restaurant Name'].value_counts()"
   ]
  },
  {
   "cell_type": "code",
   "execution_count": 94,
   "metadata": {},
   "outputs": [
    {
     "data": {
      "text/plain": [
       "5834"
      ]
     },
     "execution_count": 94,
     "metadata": {},
     "output_type": "execute_result"
    }
   ],
   "source": [
    "data['Restaurant Name'].nunique()"
   ]
  },
  {
   "cell_type": "code",
   "execution_count": 95,
   "metadata": {},
   "outputs": [
    {
     "data": {
      "text/plain": [
       "Index(['Restaurant Name', 'City', 'Address', 'Locality', 'Locality Verbose',\n",
       "       'Longitude', 'Latitude', 'Cuisines', 'Average Cost for two',\n",
       "       'Has Table booking', 'Has Online delivery', 'Switch to order menu',\n",
       "       'Price range', 'Aggregate rating', 'Rating color', 'Rating text',\n",
       "       'Votes'],\n",
       "      dtype='object')"
      ]
     },
     "execution_count": 95,
     "metadata": {},
     "output_type": "execute_result"
    }
   ],
   "source": [
    "data.columns"
   ]
  },
  {
   "cell_type": "code",
   "execution_count": 96,
   "metadata": {},
   "outputs": [],
   "source": [
    "data.drop(columns=['Restaurant Name','Address','Locality','Locality Verbose','Rating text','Rating color'],inplace=True)"
   ]
  },
  {
   "cell_type": "code",
   "execution_count": 97,
   "metadata": {},
   "outputs": [
    {
     "data": {
      "text/plain": [
       "Index(['City', 'Longitude', 'Latitude', 'Cuisines', 'Average Cost for two',\n",
       "       'Has Table booking', 'Has Online delivery', 'Switch to order menu',\n",
       "       'Price range', 'Aggregate rating', 'Votes'],\n",
       "      dtype='object')"
      ]
     },
     "execution_count": 97,
     "metadata": {},
     "output_type": "execute_result"
    }
   ],
   "source": [
    "data.columns"
   ]
  },
  {
   "cell_type": "code",
   "execution_count": 98,
   "metadata": {},
   "outputs": [
    {
     "data": {
      "text/plain": [
       "No    7671\n",
       "Name: Switch to order menu, dtype: int64"
      ]
     },
     "execution_count": 98,
     "metadata": {},
     "output_type": "execute_result"
    }
   ],
   "source": [
    "data['Switch to order menu'].value_counts()"
   ]
  },
  {
   "cell_type": "code",
   "execution_count": 99,
   "metadata": {},
   "outputs": [],
   "source": [
    "data.drop(columns=['Switch to order menu'],inplace=True)"
   ]
  },
  {
   "cell_type": "code",
   "execution_count": 100,
   "metadata": {},
   "outputs": [
    {
     "data": {
      "text/plain": [
       "Index(['City', 'Longitude', 'Latitude', 'Cuisines', 'Average Cost for two',\n",
       "       'Has Table booking', 'Has Online delivery', 'Price range',\n",
       "       'Aggregate rating', 'Votes'],\n",
       "      dtype='object')"
      ]
     },
     "execution_count": 100,
     "metadata": {},
     "output_type": "execute_result"
    }
   ],
   "source": [
    "data.columns"
   ]
  },
  {
   "cell_type": "code",
   "execution_count": 101,
   "metadata": {},
   "outputs": [
    {
     "data": {
      "text/plain": [
       "1143"
      ]
     },
     "execution_count": 101,
     "metadata": {},
     "output_type": "execute_result"
    }
   ],
   "source": [
    "data['Cuisines'].nunique()"
   ]
  },
  {
   "cell_type": "code",
   "execution_count": 102,
   "metadata": {},
   "outputs": [
    {
     "data": {
      "text/plain": [
       "North Indian                                                  True\n",
       "North Indian, Chinese                                         True\n",
       "Fast Food                                                     True\n",
       "Chinese                                                       True\n",
       "North Indian, Mughlai                                         True\n",
       "Cafe                                                          True\n",
       "Bakery                                                        True\n",
       "North Indian, Mughlai, Chinese                                True\n",
       "Bakery, Desserts                                              True\n",
       "Street Food                                                   True\n",
       "Pizza, Fast Food                                              True\n",
       "Chinese, Fast Food                                            True\n",
       "Mithai, Street Food                                           True\n",
       "South Indian                                                  True\n",
       "Bakery, Fast Food                                             True\n",
       "Mughlai                                                       True\n",
       "Chinese, North Indian                                         True\n",
       "Ice Cream, Desserts                                           True\n",
       "Ice Cream                                                     True\n",
       "Mithai                                                        True\n",
       "North Indian, Chinese, Mughlai                                True\n",
       "North Indian, Fast Food                                       True\n",
       "North Indian, Chinese, Fast Food                              True\n",
       "Bakery, Desserts, Fast Food                                   True\n",
       "American, Fast Food, Salad, Healthy Food                      True\n",
       "Mughlai, North Indian                                         True\n",
       "Biryani                                                       True\n",
       "Beverages                                                     True\n",
       "Fast Food, Burger                                             True\n",
       "North Indian, Chinese, Continental                           False\n",
       "                                                             ...  \n",
       "Chinese, Japanese, Thai, Asian                               False\n",
       "Mediterranean, Continental, North Indian, Italian            False\n",
       "Street Food, South Indian, Chinese                           False\n",
       "Finger Food, American, Continental, North Indian, Italian    False\n",
       "American, European, North Indian                             False\n",
       "Cafe, Fast Food, North Indian                                False\n",
       "North Indian, Fast Food, Afghani                             False\n",
       "Mexican, American, Healthy Food                              False\n",
       "Asian, Japanese, Korean, Thai, Chinese                       False\n",
       "American, Seafood, Italian, Japanese, Thai                   False\n",
       "Fast Food, Mughlai                                           False\n",
       "Asian, Continental, Fast Food                                False\n",
       "Mithai, Street Food, Fast Food                               False\n",
       "Cafe, Healthy Food, Continental, Italian, Asian              False\n",
       "Mediterranean, European                                      False\n",
       "Continental, Fast Food, North Indian, Asian                  False\n",
       "Fast Food, North Indian, Chinese, Desserts, Ice Cream        False\n",
       "Fast Food, Mughlai, Armenian                                 False\n",
       "Raw Meats, Street Food                                       False\n",
       "American, North Indian, European, Asian                      False\n",
       "Chinese, Cafe                                                False\n",
       "North Indian, Continental, Italian, Finger Food              False\n",
       "Continental, Mexican, Mediterranean                          False\n",
       "Chinese, North Indian, Continental, Italian                  False\n",
       "Thai, Chinese, North Indian                                  False\n",
       "Continental, Italian, North Indian, Lebanese                 False\n",
       "Cafe, Continental, Italian, Mexican                          False\n",
       "Healthy Food, Juices, Salad                                  False\n",
       "North Indian, Continental, Chinese, Italian, Lebanese        False\n",
       "Finger Food, North Indian, Continental, Italian              False\n",
       "Name: Cuisines, Length: 1143, dtype: bool"
      ]
     },
     "execution_count": 102,
     "metadata": {},
     "output_type": "execute_result"
    }
   ],
   "source": [
    "data['Cuisines'].value_counts()>50"
   ]
  },
  {
   "cell_type": "code",
   "execution_count": 103,
   "metadata": {},
   "outputs": [
    {
     "data": {
      "text/plain": [
       "Index(['City', 'Longitude', 'Latitude', 'Cuisines', 'Average Cost for two',\n",
       "       'Has Table booking', 'Has Online delivery', 'Price range',\n",
       "       'Aggregate rating', 'Votes'],\n",
       "      dtype='object')"
      ]
     },
     "execution_count": 103,
     "metadata": {},
     "output_type": "execute_result"
    }
   ],
   "source": [
    "data.columns"
   ]
  },
  {
   "cell_type": "code",
   "execution_count": 104,
   "metadata": {},
   "outputs": [
    {
     "data": {
      "text/plain": [
       "No     6640\n",
       "Yes    1031\n",
       "Name: Has Table booking, dtype: int64"
      ]
     },
     "execution_count": 104,
     "metadata": {},
     "output_type": "execute_result"
    }
   ],
   "source": [
    "data['Has Table booking'].value_counts()"
   ]
  },
  {
   "cell_type": "code",
   "execution_count": 105,
   "metadata": {},
   "outputs": [],
   "source": [
    "data['Has Table booking'].replace('Yes',1,inplace=True)\n",
    "data['Has Table booking'].replace('No',0,inplace=True)"
   ]
  },
  {
   "cell_type": "code",
   "execution_count": 106,
   "metadata": {},
   "outputs": [
    {
     "data": {
      "text/plain": [
       "0    6640\n",
       "1    1031\n",
       "Name: Has Table booking, dtype: int64"
      ]
     },
     "execution_count": 106,
     "metadata": {},
     "output_type": "execute_result"
    }
   ],
   "source": [
    "data['Has Table booking'].value_counts()"
   ]
  },
  {
   "cell_type": "code",
   "execution_count": 107,
   "metadata": {},
   "outputs": [],
   "source": [
    "data['Has Online delivery'].replace('Yes',1,inplace=True)\n",
    "data['Has Online delivery'].replace('No',0,inplace=True)"
   ]
  },
  {
   "cell_type": "code",
   "execution_count": 108,
   "metadata": {},
   "outputs": [
    {
     "data": {
      "text/plain": [
       "0    5393\n",
       "1    2278\n",
       "Name: Has Online delivery, dtype: int64"
      ]
     },
     "execution_count": 108,
     "metadata": {},
     "output_type": "execute_result"
    }
   ],
   "source": [
    "data['Has Online delivery'].value_counts()"
   ]
  },
  {
   "cell_type": "code",
   "execution_count": 109,
   "metadata": {},
   "outputs": [],
   "source": [
    "#data.corr()['Average Cost for two']\n",
    "data.drop(columns=['Longitude','Latitude','Has Online delivery','Price range'],inplace=True)"
   ]
  },
  {
   "cell_type": "code",
   "execution_count": 110,
   "metadata": {},
   "outputs": [
    {
     "data": {
      "text/plain": [
       "Index(['City', 'Cuisines', 'Average Cost for two', 'Has Table booking',\n",
       "       'Aggregate rating', 'Votes'],\n",
       "      dtype='object')"
      ]
     },
     "execution_count": 110,
     "metadata": {},
     "output_type": "execute_result"
    }
   ],
   "source": [
    "data.columns"
   ]
  },
  {
   "cell_type": "code",
   "execution_count": 111,
   "metadata": {},
   "outputs": [
    {
     "data": {
      "text/plain": [
       "Average Cost for two    1.000000\n",
       "Has Table booking       0.643845\n",
       "Aggregate rating        0.329785\n",
       "Votes                   0.297741\n",
       "Name: Average Cost for two, dtype: float64"
      ]
     },
     "execution_count": 111,
     "metadata": {},
     "output_type": "execute_result"
    }
   ],
   "source": [
    "data.corr()['Average Cost for two']"
   ]
  },
  {
   "cell_type": "code",
   "execution_count": 112,
   "metadata": {
    "scrolled": true
   },
   "outputs": [
    {
     "data": {
      "text/html": [
       "<div>\n",
       "<style scoped>\n",
       "    .dataframe tbody tr th:only-of-type {\n",
       "        vertical-align: middle;\n",
       "    }\n",
       "\n",
       "    .dataframe tbody tr th {\n",
       "        vertical-align: top;\n",
       "    }\n",
       "\n",
       "    .dataframe thead th {\n",
       "        text-align: right;\n",
       "    }\n",
       "</style>\n",
       "<table border=\"1\" class=\"dataframe\">\n",
       "  <thead>\n",
       "    <tr style=\"text-align: right;\">\n",
       "      <th></th>\n",
       "      <th>City</th>\n",
       "      <th>Cuisines</th>\n",
       "      <th>Average Cost for two</th>\n",
       "      <th>Has Table booking</th>\n",
       "      <th>Aggregate rating</th>\n",
       "      <th>Votes</th>\n",
       "    </tr>\n",
       "  </thead>\n",
       "  <tbody>\n",
       "    <tr>\n",
       "      <th>1161</th>\n",
       "      <td>Gurgaon</td>\n",
       "      <td>Cafe, Beverages</td>\n",
       "      <td>350</td>\n",
       "      <td>0</td>\n",
       "      <td>3.4</td>\n",
       "      <td>16</td>\n",
       "    </tr>\n",
       "    <tr>\n",
       "      <th>1162</th>\n",
       "      <td>Gurgaon</td>\n",
       "      <td>North Indian, Mughlai</td>\n",
       "      <td>800</td>\n",
       "      <td>1</td>\n",
       "      <td>2.7</td>\n",
       "      <td>80</td>\n",
       "    </tr>\n",
       "    <tr>\n",
       "      <th>1163</th>\n",
       "      <td>Gurgaon</td>\n",
       "      <td>North Indian, Mughlai</td>\n",
       "      <td>2000</td>\n",
       "      <td>1</td>\n",
       "      <td>4.3</td>\n",
       "      <td>1887</td>\n",
       "    </tr>\n",
       "    <tr>\n",
       "      <th>1164</th>\n",
       "      <td>Gurgaon</td>\n",
       "      <td>South Indian, Seafood, Kerala</td>\n",
       "      <td>1400</td>\n",
       "      <td>1</td>\n",
       "      <td>4.0</td>\n",
       "      <td>802</td>\n",
       "    </tr>\n",
       "    <tr>\n",
       "      <th>1165</th>\n",
       "      <td>Gurgaon</td>\n",
       "      <td>Bakery</td>\n",
       "      <td>250</td>\n",
       "      <td>0</td>\n",
       "      <td>3.0</td>\n",
       "      <td>4</td>\n",
       "    </tr>\n",
       "    <tr>\n",
       "      <th>1166</th>\n",
       "      <td>Gurgaon</td>\n",
       "      <td>Ice Cream</td>\n",
       "      <td>200</td>\n",
       "      <td>0</td>\n",
       "      <td>3.0</td>\n",
       "      <td>5</td>\n",
       "    </tr>\n",
       "    <tr>\n",
       "      <th>1167</th>\n",
       "      <td>Gurgaon</td>\n",
       "      <td>Chinese</td>\n",
       "      <td>200</td>\n",
       "      <td>0</td>\n",
       "      <td>3.0</td>\n",
       "      <td>10</td>\n",
       "    </tr>\n",
       "    <tr>\n",
       "      <th>1168</th>\n",
       "      <td>Gurgaon</td>\n",
       "      <td>Fast Food</td>\n",
       "      <td>100</td>\n",
       "      <td>0</td>\n",
       "      <td>0.0</td>\n",
       "      <td>2</td>\n",
       "    </tr>\n",
       "    <tr>\n",
       "      <th>1169</th>\n",
       "      <td>Gurgaon</td>\n",
       "      <td>Japanese, Thai, Chinese</td>\n",
       "      <td>1200</td>\n",
       "      <td>0</td>\n",
       "      <td>3.0</td>\n",
       "      <td>57</td>\n",
       "    </tr>\n",
       "    <tr>\n",
       "      <th>1170</th>\n",
       "      <td>Gurgaon</td>\n",
       "      <td>Pizza, Desserts</td>\n",
       "      <td>500</td>\n",
       "      <td>0</td>\n",
       "      <td>3.1</td>\n",
       "      <td>4</td>\n",
       "    </tr>\n",
       "    <tr>\n",
       "      <th>1171</th>\n",
       "      <td>Gurgaon</td>\n",
       "      <td>Raw Meats, Fast Food</td>\n",
       "      <td>350</td>\n",
       "      <td>0</td>\n",
       "      <td>2.9</td>\n",
       "      <td>4</td>\n",
       "    </tr>\n",
       "    <tr>\n",
       "      <th>1172</th>\n",
       "      <td>Gurgaon</td>\n",
       "      <td>South Indian, Chinese, Mughlai</td>\n",
       "      <td>450</td>\n",
       "      <td>0</td>\n",
       "      <td>0.0</td>\n",
       "      <td>0</td>\n",
       "    </tr>\n",
       "    <tr>\n",
       "      <th>1173</th>\n",
       "      <td>Gurgaon</td>\n",
       "      <td>Fast Food, North Indian</td>\n",
       "      <td>300</td>\n",
       "      <td>0</td>\n",
       "      <td>0.0</td>\n",
       "      <td>0</td>\n",
       "    </tr>\n",
       "    <tr>\n",
       "      <th>1174</th>\n",
       "      <td>Gurgaon</td>\n",
       "      <td>North Indian, Chinese</td>\n",
       "      <td>300</td>\n",
       "      <td>0</td>\n",
       "      <td>0.0</td>\n",
       "      <td>2</td>\n",
       "    </tr>\n",
       "    <tr>\n",
       "      <th>1175</th>\n",
       "      <td>Gurgaon</td>\n",
       "      <td>North Indian, South Indian, Chinese</td>\n",
       "      <td>500</td>\n",
       "      <td>0</td>\n",
       "      <td>0.0</td>\n",
       "      <td>1</td>\n",
       "    </tr>\n",
       "    <tr>\n",
       "      <th>1176</th>\n",
       "      <td>Gurgaon</td>\n",
       "      <td>Cafe</td>\n",
       "      <td>600</td>\n",
       "      <td>0</td>\n",
       "      <td>0.0</td>\n",
       "      <td>2</td>\n",
       "    </tr>\n",
       "    <tr>\n",
       "      <th>1177</th>\n",
       "      <td>Gurgaon</td>\n",
       "      <td>Raw Meats</td>\n",
       "      <td>500</td>\n",
       "      <td>0</td>\n",
       "      <td>0.0</td>\n",
       "      <td>1</td>\n",
       "    </tr>\n",
       "    <tr>\n",
       "      <th>1178</th>\n",
       "      <td>Gurgaon</td>\n",
       "      <td>Mithai, North Indian</td>\n",
       "      <td>100</td>\n",
       "      <td>0</td>\n",
       "      <td>0.0</td>\n",
       "      <td>0</td>\n",
       "    </tr>\n",
       "    <tr>\n",
       "      <th>1179</th>\n",
       "      <td>Gurgaon</td>\n",
       "      <td>North Indian, Chinese, Fast Food</td>\n",
       "      <td>500</td>\n",
       "      <td>0</td>\n",
       "      <td>0.0</td>\n",
       "      <td>1</td>\n",
       "    </tr>\n",
       "    <tr>\n",
       "      <th>1180</th>\n",
       "      <td>Gurgaon</td>\n",
       "      <td>North Indian</td>\n",
       "      <td>200</td>\n",
       "      <td>0</td>\n",
       "      <td>0.0</td>\n",
       "      <td>0</td>\n",
       "    </tr>\n",
       "    <tr>\n",
       "      <th>1181</th>\n",
       "      <td>Gurgaon</td>\n",
       "      <td>North Indian, Chinese</td>\n",
       "      <td>350</td>\n",
       "      <td>0</td>\n",
       "      <td>0.0</td>\n",
       "      <td>0</td>\n",
       "    </tr>\n",
       "    <tr>\n",
       "      <th>1182</th>\n",
       "      <td>Gurgaon</td>\n",
       "      <td>South Indian, Street Food</td>\n",
       "      <td>300</td>\n",
       "      <td>0</td>\n",
       "      <td>0.0</td>\n",
       "      <td>1</td>\n",
       "    </tr>\n",
       "    <tr>\n",
       "      <th>1183</th>\n",
       "      <td>Gurgaon</td>\n",
       "      <td>North Indian, Chinese</td>\n",
       "      <td>250</td>\n",
       "      <td>0</td>\n",
       "      <td>0.0</td>\n",
       "      <td>0</td>\n",
       "    </tr>\n",
       "    <tr>\n",
       "      <th>1184</th>\n",
       "      <td>Gurgaon</td>\n",
       "      <td>North Indian, Chinese</td>\n",
       "      <td>500</td>\n",
       "      <td>0</td>\n",
       "      <td>0.0</td>\n",
       "      <td>1</td>\n",
       "    </tr>\n",
       "    <tr>\n",
       "      <th>1185</th>\n",
       "      <td>Gurgaon</td>\n",
       "      <td>North Indian</td>\n",
       "      <td>200</td>\n",
       "      <td>0</td>\n",
       "      <td>0.0</td>\n",
       "      <td>0</td>\n",
       "    </tr>\n",
       "    <tr>\n",
       "      <th>1186</th>\n",
       "      <td>Gurgaon</td>\n",
       "      <td>North Indian, Mughlai, Seafood</td>\n",
       "      <td>800</td>\n",
       "      <td>0</td>\n",
       "      <td>0.0</td>\n",
       "      <td>0</td>\n",
       "    </tr>\n",
       "    <tr>\n",
       "      <th>1187</th>\n",
       "      <td>Gurgaon</td>\n",
       "      <td>Fast Food</td>\n",
       "      <td>350</td>\n",
       "      <td>0</td>\n",
       "      <td>0.0</td>\n",
       "      <td>3</td>\n",
       "    </tr>\n",
       "    <tr>\n",
       "      <th>1188</th>\n",
       "      <td>Gurgaon</td>\n",
       "      <td>Japanese</td>\n",
       "      <td>1500</td>\n",
       "      <td>1</td>\n",
       "      <td>2.8</td>\n",
       "      <td>13</td>\n",
       "    </tr>\n",
       "    <tr>\n",
       "      <th>1189</th>\n",
       "      <td>Gurgaon</td>\n",
       "      <td>North Indian, Chinese, Continental</td>\n",
       "      <td>2500</td>\n",
       "      <td>1</td>\n",
       "      <td>2.9</td>\n",
       "      <td>15</td>\n",
       "    </tr>\n",
       "    <tr>\n",
       "      <th>1190</th>\n",
       "      <td>Gurgaon</td>\n",
       "      <td>Bakery, Fast Food</td>\n",
       "      <td>500</td>\n",
       "      <td>0</td>\n",
       "      <td>3.9</td>\n",
       "      <td>415</td>\n",
       "    </tr>\n",
       "    <tr>\n",
       "      <th>...</th>\n",
       "      <td>...</td>\n",
       "      <td>...</td>\n",
       "      <td>...</td>\n",
       "      <td>...</td>\n",
       "      <td>...</td>\n",
       "      <td>...</td>\n",
       "    </tr>\n",
       "    <tr>\n",
       "      <th>9083</th>\n",
       "      <td>Noida</td>\n",
       "      <td>Italian</td>\n",
       "      <td>1200</td>\n",
       "      <td>1</td>\n",
       "      <td>3.1</td>\n",
       "      <td>372</td>\n",
       "    </tr>\n",
       "    <tr>\n",
       "      <th>9084</th>\n",
       "      <td>Noida</td>\n",
       "      <td>Cafe</td>\n",
       "      <td>700</td>\n",
       "      <td>0</td>\n",
       "      <td>2.6</td>\n",
       "      <td>55</td>\n",
       "    </tr>\n",
       "    <tr>\n",
       "      <th>9085</th>\n",
       "      <td>Noida</td>\n",
       "      <td>Ice Cream</td>\n",
       "      <td>250</td>\n",
       "      <td>0</td>\n",
       "      <td>3.4</td>\n",
       "      <td>11</td>\n",
       "    </tr>\n",
       "    <tr>\n",
       "      <th>9086</th>\n",
       "      <td>Noida</td>\n",
       "      <td>Chinese</td>\n",
       "      <td>1300</td>\n",
       "      <td>0</td>\n",
       "      <td>2.6</td>\n",
       "      <td>334</td>\n",
       "    </tr>\n",
       "    <tr>\n",
       "      <th>9087</th>\n",
       "      <td>Noida</td>\n",
       "      <td>Ice Cream</td>\n",
       "      <td>300</td>\n",
       "      <td>0</td>\n",
       "      <td>3.5</td>\n",
       "      <td>41</td>\n",
       "    </tr>\n",
       "    <tr>\n",
       "      <th>9088</th>\n",
       "      <td>Noida</td>\n",
       "      <td>Burger, Fast Food</td>\n",
       "      <td>500</td>\n",
       "      <td>0</td>\n",
       "      <td>3.5</td>\n",
       "      <td>211</td>\n",
       "    </tr>\n",
       "    <tr>\n",
       "      <th>9089</th>\n",
       "      <td>Noida</td>\n",
       "      <td>Cafe</td>\n",
       "      <td>600</td>\n",
       "      <td>0</td>\n",
       "      <td>3.5</td>\n",
       "      <td>110</td>\n",
       "    </tr>\n",
       "    <tr>\n",
       "      <th>9090</th>\n",
       "      <td>Noida</td>\n",
       "      <td>Chinese, Thai</td>\n",
       "      <td>1100</td>\n",
       "      <td>1</td>\n",
       "      <td>3.6</td>\n",
       "      <td>507</td>\n",
       "    </tr>\n",
       "    <tr>\n",
       "      <th>9091</th>\n",
       "      <td>Noida</td>\n",
       "      <td>Fast Food</td>\n",
       "      <td>150</td>\n",
       "      <td>0</td>\n",
       "      <td>3.5</td>\n",
       "      <td>37</td>\n",
       "    </tr>\n",
       "    <tr>\n",
       "      <th>9092</th>\n",
       "      <td>Noida</td>\n",
       "      <td>Chinese</td>\n",
       "      <td>1500</td>\n",
       "      <td>1</td>\n",
       "      <td>3.7</td>\n",
       "      <td>517</td>\n",
       "    </tr>\n",
       "    <tr>\n",
       "      <th>9093</th>\n",
       "      <td>Noida</td>\n",
       "      <td>Mughlai, North Indian</td>\n",
       "      <td>600</td>\n",
       "      <td>0</td>\n",
       "      <td>3.6</td>\n",
       "      <td>179</td>\n",
       "    </tr>\n",
       "    <tr>\n",
       "      <th>9094</th>\n",
       "      <td>Noida</td>\n",
       "      <td>Italian, Pizza, Fast Food</td>\n",
       "      <td>1000</td>\n",
       "      <td>0</td>\n",
       "      <td>3.7</td>\n",
       "      <td>189</td>\n",
       "    </tr>\n",
       "    <tr>\n",
       "      <th>9095</th>\n",
       "      <td>Noida</td>\n",
       "      <td>South Indian, North Indian, Chinese</td>\n",
       "      <td>800</td>\n",
       "      <td>0</td>\n",
       "      <td>3.5</td>\n",
       "      <td>139</td>\n",
       "    </tr>\n",
       "    <tr>\n",
       "      <th>9096</th>\n",
       "      <td>Noida</td>\n",
       "      <td>American, Tex-Mex</td>\n",
       "      <td>2500</td>\n",
       "      <td>1</td>\n",
       "      <td>3.5</td>\n",
       "      <td>1147</td>\n",
       "    </tr>\n",
       "    <tr>\n",
       "      <th>9097</th>\n",
       "      <td>Noida</td>\n",
       "      <td>North Indian, Rajasthani</td>\n",
       "      <td>1000</td>\n",
       "      <td>0</td>\n",
       "      <td>3.5</td>\n",
       "      <td>249</td>\n",
       "    </tr>\n",
       "    <tr>\n",
       "      <th>9098</th>\n",
       "      <td>Noida</td>\n",
       "      <td>Fast Food</td>\n",
       "      <td>200</td>\n",
       "      <td>0</td>\n",
       "      <td>0.0</td>\n",
       "      <td>0</td>\n",
       "    </tr>\n",
       "    <tr>\n",
       "      <th>9099</th>\n",
       "      <td>Noida</td>\n",
       "      <td>Italian, Chinese</td>\n",
       "      <td>200</td>\n",
       "      <td>0</td>\n",
       "      <td>0.0</td>\n",
       "      <td>0</td>\n",
       "    </tr>\n",
       "    <tr>\n",
       "      <th>9100</th>\n",
       "      <td>Noida</td>\n",
       "      <td>Desserts</td>\n",
       "      <td>150</td>\n",
       "      <td>0</td>\n",
       "      <td>0.0</td>\n",
       "      <td>1</td>\n",
       "    </tr>\n",
       "    <tr>\n",
       "      <th>9101</th>\n",
       "      <td>Noida</td>\n",
       "      <td>Desserts, Ice Cream</td>\n",
       "      <td>150</td>\n",
       "      <td>0</td>\n",
       "      <td>0.0</td>\n",
       "      <td>1</td>\n",
       "    </tr>\n",
       "    <tr>\n",
       "      <th>9102</th>\n",
       "      <td>Noida</td>\n",
       "      <td>Cafe</td>\n",
       "      <td>850</td>\n",
       "      <td>0</td>\n",
       "      <td>0.0</td>\n",
       "      <td>1</td>\n",
       "    </tr>\n",
       "    <tr>\n",
       "      <th>9103</th>\n",
       "      <td>Noida</td>\n",
       "      <td>Continental, Lebanese, Mexican</td>\n",
       "      <td>1000</td>\n",
       "      <td>1</td>\n",
       "      <td>0.0</td>\n",
       "      <td>0</td>\n",
       "    </tr>\n",
       "    <tr>\n",
       "      <th>9104</th>\n",
       "      <td>Noida</td>\n",
       "      <td>Chinese, North Indian, South Indian, Fast Food</td>\n",
       "      <td>450</td>\n",
       "      <td>0</td>\n",
       "      <td>2.0</td>\n",
       "      <td>161</td>\n",
       "    </tr>\n",
       "    <tr>\n",
       "      <th>9105</th>\n",
       "      <td>Noida</td>\n",
       "      <td>North Indian, Continental, Chinese</td>\n",
       "      <td>2400</td>\n",
       "      <td>1</td>\n",
       "      <td>2.0</td>\n",
       "      <td>230</td>\n",
       "    </tr>\n",
       "    <tr>\n",
       "      <th>9106</th>\n",
       "      <td>Noida</td>\n",
       "      <td>North Indian, Mughlai</td>\n",
       "      <td>1200</td>\n",
       "      <td>1</td>\n",
       "      <td>2.0</td>\n",
       "      <td>108</td>\n",
       "    </tr>\n",
       "    <tr>\n",
       "      <th>9107</th>\n",
       "      <td>Noida</td>\n",
       "      <td>North Indian, Chinese</td>\n",
       "      <td>1200</td>\n",
       "      <td>1</td>\n",
       "      <td>4.0</td>\n",
       "      <td>395</td>\n",
       "    </tr>\n",
       "    <tr>\n",
       "      <th>9108</th>\n",
       "      <td>Noida</td>\n",
       "      <td>North Indian, Chinese</td>\n",
       "      <td>700</td>\n",
       "      <td>0</td>\n",
       "      <td>2.6</td>\n",
       "      <td>34</td>\n",
       "    </tr>\n",
       "    <tr>\n",
       "      <th>9109</th>\n",
       "      <td>Noida</td>\n",
       "      <td>Fast Food</td>\n",
       "      <td>400</td>\n",
       "      <td>0</td>\n",
       "      <td>0.0</td>\n",
       "      <td>1</td>\n",
       "    </tr>\n",
       "    <tr>\n",
       "      <th>9110</th>\n",
       "      <td>Noida</td>\n",
       "      <td>Fast Food</td>\n",
       "      <td>600</td>\n",
       "      <td>0</td>\n",
       "      <td>0.0</td>\n",
       "      <td>3</td>\n",
       "    </tr>\n",
       "    <tr>\n",
       "      <th>9111</th>\n",
       "      <td>Noida</td>\n",
       "      <td>North Indian, Chinese</td>\n",
       "      <td>500</td>\n",
       "      <td>0</td>\n",
       "      <td>0.0</td>\n",
       "      <td>0</td>\n",
       "    </tr>\n",
       "    <tr>\n",
       "      <th>9112</th>\n",
       "      <td>Noida</td>\n",
       "      <td>Raw Meats, Fast Food</td>\n",
       "      <td>250</td>\n",
       "      <td>0</td>\n",
       "      <td>0.0</td>\n",
       "      <td>1</td>\n",
       "    </tr>\n",
       "  </tbody>\n",
       "</table>\n",
       "<p>7671 rows × 6 columns</p>\n",
       "</div>"
      ],
      "text/plain": [
       "         City                                        Cuisines  \\\n",
       "1161  Gurgaon                                 Cafe, Beverages   \n",
       "1162  Gurgaon                           North Indian, Mughlai   \n",
       "1163  Gurgaon                           North Indian, Mughlai   \n",
       "1164  Gurgaon                   South Indian, Seafood, Kerala   \n",
       "1165  Gurgaon                                          Bakery   \n",
       "1166  Gurgaon                                       Ice Cream   \n",
       "1167  Gurgaon                                         Chinese   \n",
       "1168  Gurgaon                                       Fast Food   \n",
       "1169  Gurgaon                         Japanese, Thai, Chinese   \n",
       "1170  Gurgaon                                 Pizza, Desserts   \n",
       "1171  Gurgaon                            Raw Meats, Fast Food   \n",
       "1172  Gurgaon                  South Indian, Chinese, Mughlai   \n",
       "1173  Gurgaon                         Fast Food, North Indian   \n",
       "1174  Gurgaon                           North Indian, Chinese   \n",
       "1175  Gurgaon             North Indian, South Indian, Chinese   \n",
       "1176  Gurgaon                                            Cafe   \n",
       "1177  Gurgaon                                       Raw Meats   \n",
       "1178  Gurgaon                            Mithai, North Indian   \n",
       "1179  Gurgaon                North Indian, Chinese, Fast Food   \n",
       "1180  Gurgaon                                    North Indian   \n",
       "1181  Gurgaon                           North Indian, Chinese   \n",
       "1182  Gurgaon                       South Indian, Street Food   \n",
       "1183  Gurgaon                           North Indian, Chinese   \n",
       "1184  Gurgaon                           North Indian, Chinese   \n",
       "1185  Gurgaon                                    North Indian   \n",
       "1186  Gurgaon                  North Indian, Mughlai, Seafood   \n",
       "1187  Gurgaon                                       Fast Food   \n",
       "1188  Gurgaon                                        Japanese   \n",
       "1189  Gurgaon              North Indian, Chinese, Continental   \n",
       "1190  Gurgaon                               Bakery, Fast Food   \n",
       "...       ...                                             ...   \n",
       "9083    Noida                                         Italian   \n",
       "9084    Noida                                            Cafe   \n",
       "9085    Noida                                       Ice Cream   \n",
       "9086    Noida                                         Chinese   \n",
       "9087    Noida                                       Ice Cream   \n",
       "9088    Noida                               Burger, Fast Food   \n",
       "9089    Noida                                            Cafe   \n",
       "9090    Noida                                   Chinese, Thai   \n",
       "9091    Noida                                       Fast Food   \n",
       "9092    Noida                                         Chinese   \n",
       "9093    Noida                           Mughlai, North Indian   \n",
       "9094    Noida                       Italian, Pizza, Fast Food   \n",
       "9095    Noida             South Indian, North Indian, Chinese   \n",
       "9096    Noida                               American, Tex-Mex   \n",
       "9097    Noida                        North Indian, Rajasthani   \n",
       "9098    Noida                                       Fast Food   \n",
       "9099    Noida                                Italian, Chinese   \n",
       "9100    Noida                                        Desserts   \n",
       "9101    Noida                             Desserts, Ice Cream   \n",
       "9102    Noida                                            Cafe   \n",
       "9103    Noida                  Continental, Lebanese, Mexican   \n",
       "9104    Noida  Chinese, North Indian, South Indian, Fast Food   \n",
       "9105    Noida              North Indian, Continental, Chinese   \n",
       "9106    Noida                           North Indian, Mughlai   \n",
       "9107    Noida                           North Indian, Chinese   \n",
       "9108    Noida                           North Indian, Chinese   \n",
       "9109    Noida                                       Fast Food   \n",
       "9110    Noida                                       Fast Food   \n",
       "9111    Noida                           North Indian, Chinese   \n",
       "9112    Noida                            Raw Meats, Fast Food   \n",
       "\n",
       "      Average Cost for two  Has Table booking  Aggregate rating  Votes  \n",
       "1161                   350                  0               3.4     16  \n",
       "1162                   800                  1               2.7     80  \n",
       "1163                  2000                  1               4.3   1887  \n",
       "1164                  1400                  1               4.0    802  \n",
       "1165                   250                  0               3.0      4  \n",
       "1166                   200                  0               3.0      5  \n",
       "1167                   200                  0               3.0     10  \n",
       "1168                   100                  0               0.0      2  \n",
       "1169                  1200                  0               3.0     57  \n",
       "1170                   500                  0               3.1      4  \n",
       "1171                   350                  0               2.9      4  \n",
       "1172                   450                  0               0.0      0  \n",
       "1173                   300                  0               0.0      0  \n",
       "1174                   300                  0               0.0      2  \n",
       "1175                   500                  0               0.0      1  \n",
       "1176                   600                  0               0.0      2  \n",
       "1177                   500                  0               0.0      1  \n",
       "1178                   100                  0               0.0      0  \n",
       "1179                   500                  0               0.0      1  \n",
       "1180                   200                  0               0.0      0  \n",
       "1181                   350                  0               0.0      0  \n",
       "1182                   300                  0               0.0      1  \n",
       "1183                   250                  0               0.0      0  \n",
       "1184                   500                  0               0.0      1  \n",
       "1185                   200                  0               0.0      0  \n",
       "1186                   800                  0               0.0      0  \n",
       "1187                   350                  0               0.0      3  \n",
       "1188                  1500                  1               2.8     13  \n",
       "1189                  2500                  1               2.9     15  \n",
       "1190                   500                  0               3.9    415  \n",
       "...                    ...                ...               ...    ...  \n",
       "9083                  1200                  1               3.1    372  \n",
       "9084                   700                  0               2.6     55  \n",
       "9085                   250                  0               3.4     11  \n",
       "9086                  1300                  0               2.6    334  \n",
       "9087                   300                  0               3.5     41  \n",
       "9088                   500                  0               3.5    211  \n",
       "9089                   600                  0               3.5    110  \n",
       "9090                  1100                  1               3.6    507  \n",
       "9091                   150                  0               3.5     37  \n",
       "9092                  1500                  1               3.7    517  \n",
       "9093                   600                  0               3.6    179  \n",
       "9094                  1000                  0               3.7    189  \n",
       "9095                   800                  0               3.5    139  \n",
       "9096                  2500                  1               3.5   1147  \n",
       "9097                  1000                  0               3.5    249  \n",
       "9098                   200                  0               0.0      0  \n",
       "9099                   200                  0               0.0      0  \n",
       "9100                   150                  0               0.0      1  \n",
       "9101                   150                  0               0.0      1  \n",
       "9102                   850                  0               0.0      1  \n",
       "9103                  1000                  1               0.0      0  \n",
       "9104                   450                  0               2.0    161  \n",
       "9105                  2400                  1               2.0    230  \n",
       "9106                  1200                  1               2.0    108  \n",
       "9107                  1200                  1               4.0    395  \n",
       "9108                   700                  0               2.6     34  \n",
       "9109                   400                  0               0.0      1  \n",
       "9110                   600                  0               0.0      3  \n",
       "9111                   500                  0               0.0      0  \n",
       "9112                   250                  0               0.0      1  \n",
       "\n",
       "[7671 rows x 6 columns]"
      ]
     },
     "execution_count": 112,
     "metadata": {},
     "output_type": "execute_result"
    }
   ],
   "source": [
    "data"
   ]
  },
  {
   "cell_type": "code",
   "execution_count": 113,
   "metadata": {},
   "outputs": [
    {
     "data": {
      "text/plain": [
       "Cuisines\n",
       "Afghani                                                      512.500000\n",
       "Afghani, Mughlai, Chinese                                    500.000000\n",
       "Afghani, North Indian                                        900.000000\n",
       "Afghani, North Indian, Pakistani, Arabian                    500.000000\n",
       "American                                                     666.666667\n",
       "American, Asian, European, Seafood                          2000.000000\n",
       "American, Asian, North Indian, Mexican, South Indian         500.000000\n",
       "American, British, Continental                              1700.000000\n",
       "American, Continental, Burger                               1000.000000\n",
       "American, Continental, Italian                              2000.000000\n",
       "American, Continental, Italian, Bakery                      2000.000000\n",
       "American, Continental, Italian, North Indian, Asian         1500.000000\n",
       "American, Continental, North Indian, Chinese                1200.000000\n",
       "American, European                                          2100.000000\n",
       "American, European, North Indian                            1800.000000\n",
       "American, Fast Food                                          697.058824\n",
       "American, Fast Food, Burger                                  500.000000\n",
       "American, Fast Food, Desserts                                500.000000\n",
       "American, Fast Food, Salad, Healthy Food                     500.000000\n",
       "American, Finger Food                                       2650.000000\n",
       "American, Italian                                           1000.000000\n",
       "American, Italian, Bakery, Deli, Burger, Sandwich, Pizza    1000.000000\n",
       "American, Italian, Cafe                                      500.000000\n",
       "American, Italian, Chinese                                  1750.000000\n",
       "American, Italian, Chinese, North Indian, Cafe               900.000000\n",
       "American, Italian, Mughlai, North Indian                    1350.000000\n",
       "American, Italian, North Indian, Chinese                     500.000000\n",
       "American, Italian, North Indian, Chinese, Lebanese          2000.000000\n",
       "American, Italian, North Indian, European, Thai             1550.000000\n",
       "American, Mexican                                           1000.000000\n",
       "                                                               ...     \n",
       "Street Food, South Indian                                    350.000000\n",
       "Street Food, South Indian, Chinese                           500.000000\n",
       "Street Food, South Indian, Mithai                            300.000000\n",
       "Sushi                                                       1000.000000\n",
       "Sushi, Asian                                                 800.000000\n",
       "Sushi, Japanese, Healthy Food                               1000.000000\n",
       "Tea                                                          250.000000\n",
       "Tea, Beverages, Fast Food                                    300.000000\n",
       "Tea, Cafe                                                   2000.000000\n",
       "Tea, Fast Food                                               237.500000\n",
       "Thai                                                        2070.000000\n",
       "Thai, Asian                                                 4000.000000\n",
       "Thai, Chinese                                                966.666667\n",
       "Thai, Chinese, Asian, Malaysian                             1500.000000\n",
       "Thai, Chinese, Japanese                                     2500.000000\n",
       "Thai, Chinese, North Indian                                 1500.000000\n",
       "Thai, Chinese, Seafood                                       800.000000\n",
       "Thai, European, Mexican, North Indian, Chinese, Cafe        1500.000000\n",
       "Thai, Japanese                                              1500.000000\n",
       "Tibetan                                                      400.000000\n",
       "Tibetan, Chinese                                             434.615385\n",
       "Tibetan, Chinese, North Indian                               500.000000\n",
       "Tibetan, Fast Food                                           350.000000\n",
       "Tibetan, Nepalese                                           1075.000000\n",
       "Tibetan, South Indian, North Indian                          400.000000\n",
       "Tibetan, Street Food                                         100.000000\n",
       "Turkish                                                      600.000000\n",
       "Turkish, Arabian, Moroccan, Lebanese                         400.000000\n",
       "Turkish, Mediterranean, Middle Eastern                      2000.000000\n",
       "Vietnamese                                                  1000.000000\n",
       "Name: Average Cost for two, Length: 1143, dtype: float64"
      ]
     },
     "execution_count": 113,
     "metadata": {},
     "output_type": "execute_result"
    }
   ],
   "source": [
    "data.groupby('Cuisines')['Average Cost for two'].mean()"
   ]
  },
  {
   "cell_type": "code",
   "execution_count": 114,
   "metadata": {},
   "outputs": [],
   "source": [
    "cuisine=data.groupby('Cuisines')['Average Cost for two'].mean().reset_index()"
   ]
  },
  {
   "cell_type": "code",
   "execution_count": 40,
   "metadata": {},
   "outputs": [
    {
     "data": {
      "text/html": [
       "<div>\n",
       "<style scoped>\n",
       "    .dataframe tbody tr th:only-of-type {\n",
       "        vertical-align: middle;\n",
       "    }\n",
       "\n",
       "    .dataframe tbody tr th {\n",
       "        vertical-align: top;\n",
       "    }\n",
       "\n",
       "    .dataframe thead th {\n",
       "        text-align: right;\n",
       "    }\n",
       "</style>\n",
       "<table border=\"1\" class=\"dataframe\">\n",
       "  <thead>\n",
       "    <tr style=\"text-align: right;\">\n",
       "      <th></th>\n",
       "      <th>City</th>\n",
       "      <th>Cuisines</th>\n",
       "      <th>Average Cost for two_x</th>\n",
       "      <th>Has Table booking</th>\n",
       "      <th>Aggregate rating</th>\n",
       "      <th>Votes</th>\n",
       "      <th>Average Cost for two_y</th>\n",
       "    </tr>\n",
       "  </thead>\n",
       "  <tbody>\n",
       "    <tr>\n",
       "      <th>0</th>\n",
       "      <td>Gurgaon</td>\n",
       "      <td>Cafe, Beverages</td>\n",
       "      <td>350</td>\n",
       "      <td>0</td>\n",
       "      <td>3.4</td>\n",
       "      <td>16</td>\n",
       "      <td>416.666667</td>\n",
       "    </tr>\n",
       "    <tr>\n",
       "      <th>1</th>\n",
       "      <td>New Delhi</td>\n",
       "      <td>Cafe, Beverages</td>\n",
       "      <td>200</td>\n",
       "      <td>0</td>\n",
       "      <td>0.0</td>\n",
       "      <td>0</td>\n",
       "      <td>416.666667</td>\n",
       "    </tr>\n",
       "    <tr>\n",
       "      <th>2</th>\n",
       "      <td>New Delhi</td>\n",
       "      <td>Cafe, Beverages</td>\n",
       "      <td>700</td>\n",
       "      <td>0</td>\n",
       "      <td>4.1</td>\n",
       "      <td>92</td>\n",
       "      <td>416.666667</td>\n",
       "    </tr>\n",
       "    <tr>\n",
       "      <th>3</th>\n",
       "      <td>Gurgaon</td>\n",
       "      <td>North Indian, Mughlai</td>\n",
       "      <td>800</td>\n",
       "      <td>1</td>\n",
       "      <td>2.7</td>\n",
       "      <td>80</td>\n",
       "      <td>755.511551</td>\n",
       "    </tr>\n",
       "    <tr>\n",
       "      <th>4</th>\n",
       "      <td>Gurgaon</td>\n",
       "      <td>North Indian, Mughlai</td>\n",
       "      <td>2000</td>\n",
       "      <td>1</td>\n",
       "      <td>4.3</td>\n",
       "      <td>1887</td>\n",
       "      <td>755.511551</td>\n",
       "    </tr>\n",
       "    <tr>\n",
       "      <th>5</th>\n",
       "      <td>Gurgaon</td>\n",
       "      <td>North Indian, Mughlai</td>\n",
       "      <td>1500</td>\n",
       "      <td>1</td>\n",
       "      <td>4.0</td>\n",
       "      <td>1595</td>\n",
       "      <td>755.511551</td>\n",
       "    </tr>\n",
       "    <tr>\n",
       "      <th>6</th>\n",
       "      <td>Gurgaon</td>\n",
       "      <td>North Indian, Mughlai</td>\n",
       "      <td>700</td>\n",
       "      <td>1</td>\n",
       "      <td>3.8</td>\n",
       "      <td>239</td>\n",
       "      <td>755.511551</td>\n",
       "    </tr>\n",
       "    <tr>\n",
       "      <th>7</th>\n",
       "      <td>Gurgaon</td>\n",
       "      <td>North Indian, Mughlai</td>\n",
       "      <td>600</td>\n",
       "      <td>0</td>\n",
       "      <td>2.9</td>\n",
       "      <td>5</td>\n",
       "      <td>755.511551</td>\n",
       "    </tr>\n",
       "    <tr>\n",
       "      <th>8</th>\n",
       "      <td>Gurgaon</td>\n",
       "      <td>North Indian, Mughlai</td>\n",
       "      <td>650</td>\n",
       "      <td>0</td>\n",
       "      <td>3.2</td>\n",
       "      <td>15</td>\n",
       "      <td>755.511551</td>\n",
       "    </tr>\n",
       "    <tr>\n",
       "      <th>9</th>\n",
       "      <td>Gurgaon</td>\n",
       "      <td>North Indian, Mughlai</td>\n",
       "      <td>600</td>\n",
       "      <td>0</td>\n",
       "      <td>3.3</td>\n",
       "      <td>23</td>\n",
       "      <td>755.511551</td>\n",
       "    </tr>\n",
       "    <tr>\n",
       "      <th>10</th>\n",
       "      <td>Gurgaon</td>\n",
       "      <td>North Indian, Mughlai</td>\n",
       "      <td>750</td>\n",
       "      <td>0</td>\n",
       "      <td>3.6</td>\n",
       "      <td>213</td>\n",
       "      <td>755.511551</td>\n",
       "    </tr>\n",
       "    <tr>\n",
       "      <th>11</th>\n",
       "      <td>Gurgaon</td>\n",
       "      <td>North Indian, Mughlai</td>\n",
       "      <td>600</td>\n",
       "      <td>0</td>\n",
       "      <td>4.0</td>\n",
       "      <td>88</td>\n",
       "      <td>755.511551</td>\n",
       "    </tr>\n",
       "    <tr>\n",
       "      <th>12</th>\n",
       "      <td>Gurgaon</td>\n",
       "      <td>North Indian, Mughlai</td>\n",
       "      <td>650</td>\n",
       "      <td>0</td>\n",
       "      <td>4.1</td>\n",
       "      <td>152</td>\n",
       "      <td>755.511551</td>\n",
       "    </tr>\n",
       "    <tr>\n",
       "      <th>13</th>\n",
       "      <td>Gurgaon</td>\n",
       "      <td>North Indian, Mughlai</td>\n",
       "      <td>1600</td>\n",
       "      <td>0</td>\n",
       "      <td>4.1</td>\n",
       "      <td>229</td>\n",
       "      <td>755.511551</td>\n",
       "    </tr>\n",
       "    <tr>\n",
       "      <th>14</th>\n",
       "      <td>Gurgaon</td>\n",
       "      <td>North Indian, Mughlai</td>\n",
       "      <td>800</td>\n",
       "      <td>0</td>\n",
       "      <td>2.6</td>\n",
       "      <td>26</td>\n",
       "      <td>755.511551</td>\n",
       "    </tr>\n",
       "    <tr>\n",
       "      <th>15</th>\n",
       "      <td>Gurgaon</td>\n",
       "      <td>North Indian, Mughlai</td>\n",
       "      <td>2000</td>\n",
       "      <td>1</td>\n",
       "      <td>4.0</td>\n",
       "      <td>111</td>\n",
       "      <td>755.511551</td>\n",
       "    </tr>\n",
       "    <tr>\n",
       "      <th>16</th>\n",
       "      <td>Gurgaon</td>\n",
       "      <td>North Indian, Mughlai</td>\n",
       "      <td>900</td>\n",
       "      <td>0</td>\n",
       "      <td>3.6</td>\n",
       "      <td>110</td>\n",
       "      <td>755.511551</td>\n",
       "    </tr>\n",
       "    <tr>\n",
       "      <th>17</th>\n",
       "      <td>Gurgaon</td>\n",
       "      <td>North Indian, Mughlai</td>\n",
       "      <td>450</td>\n",
       "      <td>0</td>\n",
       "      <td>3.4</td>\n",
       "      <td>260</td>\n",
       "      <td>755.511551</td>\n",
       "    </tr>\n",
       "    <tr>\n",
       "      <th>18</th>\n",
       "      <td>Gurgaon</td>\n",
       "      <td>North Indian, Mughlai</td>\n",
       "      <td>600</td>\n",
       "      <td>0</td>\n",
       "      <td>3.8</td>\n",
       "      <td>121</td>\n",
       "      <td>755.511551</td>\n",
       "    </tr>\n",
       "    <tr>\n",
       "      <th>19</th>\n",
       "      <td>Gurgaon</td>\n",
       "      <td>North Indian, Mughlai</td>\n",
       "      <td>800</td>\n",
       "      <td>0</td>\n",
       "      <td>2.7</td>\n",
       "      <td>67</td>\n",
       "      <td>755.511551</td>\n",
       "    </tr>\n",
       "    <tr>\n",
       "      <th>20</th>\n",
       "      <td>Gurgaon</td>\n",
       "      <td>North Indian, Mughlai</td>\n",
       "      <td>800</td>\n",
       "      <td>0</td>\n",
       "      <td>2.7</td>\n",
       "      <td>11</td>\n",
       "      <td>755.511551</td>\n",
       "    </tr>\n",
       "    <tr>\n",
       "      <th>21</th>\n",
       "      <td>Gurgaon</td>\n",
       "      <td>North Indian, Mughlai</td>\n",
       "      <td>550</td>\n",
       "      <td>0</td>\n",
       "      <td>3.5</td>\n",
       "      <td>31</td>\n",
       "      <td>755.511551</td>\n",
       "    </tr>\n",
       "    <tr>\n",
       "      <th>22</th>\n",
       "      <td>Gurgaon</td>\n",
       "      <td>North Indian, Mughlai</td>\n",
       "      <td>400</td>\n",
       "      <td>0</td>\n",
       "      <td>0.0</td>\n",
       "      <td>1</td>\n",
       "      <td>755.511551</td>\n",
       "    </tr>\n",
       "    <tr>\n",
       "      <th>23</th>\n",
       "      <td>Gurgaon</td>\n",
       "      <td>North Indian, Mughlai</td>\n",
       "      <td>3000</td>\n",
       "      <td>1</td>\n",
       "      <td>3.7</td>\n",
       "      <td>340</td>\n",
       "      <td>755.511551</td>\n",
       "    </tr>\n",
       "    <tr>\n",
       "      <th>24</th>\n",
       "      <td>Gurgaon</td>\n",
       "      <td>North Indian, Mughlai</td>\n",
       "      <td>700</td>\n",
       "      <td>0</td>\n",
       "      <td>2.8</td>\n",
       "      <td>16</td>\n",
       "      <td>755.511551</td>\n",
       "    </tr>\n",
       "    <tr>\n",
       "      <th>25</th>\n",
       "      <td>Gurgaon</td>\n",
       "      <td>North Indian, Mughlai</td>\n",
       "      <td>900</td>\n",
       "      <td>1</td>\n",
       "      <td>3.0</td>\n",
       "      <td>61</td>\n",
       "      <td>755.511551</td>\n",
       "    </tr>\n",
       "    <tr>\n",
       "      <th>26</th>\n",
       "      <td>Gurgaon</td>\n",
       "      <td>North Indian, Mughlai</td>\n",
       "      <td>350</td>\n",
       "      <td>0</td>\n",
       "      <td>0.0</td>\n",
       "      <td>2</td>\n",
       "      <td>755.511551</td>\n",
       "    </tr>\n",
       "    <tr>\n",
       "      <th>27</th>\n",
       "      <td>Gurgaon</td>\n",
       "      <td>North Indian, Mughlai</td>\n",
       "      <td>500</td>\n",
       "      <td>0</td>\n",
       "      <td>0.0</td>\n",
       "      <td>3</td>\n",
       "      <td>755.511551</td>\n",
       "    </tr>\n",
       "    <tr>\n",
       "      <th>28</th>\n",
       "      <td>Gurgaon</td>\n",
       "      <td>North Indian, Mughlai</td>\n",
       "      <td>800</td>\n",
       "      <td>0</td>\n",
       "      <td>3.4</td>\n",
       "      <td>1022</td>\n",
       "      <td>755.511551</td>\n",
       "    </tr>\n",
       "    <tr>\n",
       "      <th>29</th>\n",
       "      <td>Gurgaon</td>\n",
       "      <td>North Indian, Mughlai</td>\n",
       "      <td>1400</td>\n",
       "      <td>1</td>\n",
       "      <td>3.3</td>\n",
       "      <td>586</td>\n",
       "      <td>755.511551</td>\n",
       "    </tr>\n",
       "    <tr>\n",
       "      <th>...</th>\n",
       "      <td>...</td>\n",
       "      <td>...</td>\n",
       "      <td>...</td>\n",
       "      <td>...</td>\n",
       "      <td>...</td>\n",
       "      <td>...</td>\n",
       "      <td>...</td>\n",
       "    </tr>\n",
       "    <tr>\n",
       "      <th>7641</th>\n",
       "      <td>Noida</td>\n",
       "      <td>American, Italian, North Indian, Chinese</td>\n",
       "      <td>500</td>\n",
       "      <td>0</td>\n",
       "      <td>0.0</td>\n",
       "      <td>3</td>\n",
       "      <td>500.000000</td>\n",
       "    </tr>\n",
       "    <tr>\n",
       "      <th>7642</th>\n",
       "      <td>Noida</td>\n",
       "      <td>North Indian, Mughlai, Mughlai</td>\n",
       "      <td>600</td>\n",
       "      <td>0</td>\n",
       "      <td>0.0</td>\n",
       "      <td>2</td>\n",
       "      <td>600.000000</td>\n",
       "    </tr>\n",
       "    <tr>\n",
       "      <th>7643</th>\n",
       "      <td>Noida</td>\n",
       "      <td>Salad, Continental</td>\n",
       "      <td>500</td>\n",
       "      <td>0</td>\n",
       "      <td>4.1</td>\n",
       "      <td>43</td>\n",
       "      <td>500.000000</td>\n",
       "    </tr>\n",
       "    <tr>\n",
       "      <th>7644</th>\n",
       "      <td>Noida</td>\n",
       "      <td>Continental, Chinese</td>\n",
       "      <td>500</td>\n",
       "      <td>0</td>\n",
       "      <td>3.0</td>\n",
       "      <td>4</td>\n",
       "      <td>500.000000</td>\n",
       "    </tr>\n",
       "    <tr>\n",
       "      <th>7645</th>\n",
       "      <td>Noida</td>\n",
       "      <td>North Indian, Healthy Food, Rajasthani</td>\n",
       "      <td>400</td>\n",
       "      <td>0</td>\n",
       "      <td>3.1</td>\n",
       "      <td>10</td>\n",
       "      <td>400.000000</td>\n",
       "    </tr>\n",
       "    <tr>\n",
       "      <th>7646</th>\n",
       "      <td>Noida</td>\n",
       "      <td>Fast Food, Cafe, Italian, North Indian, Chinese</td>\n",
       "      <td>550</td>\n",
       "      <td>0</td>\n",
       "      <td>3.2</td>\n",
       "      <td>48</td>\n",
       "      <td>550.000000</td>\n",
       "    </tr>\n",
       "    <tr>\n",
       "      <th>7647</th>\n",
       "      <td>Noida</td>\n",
       "      <td>Healthy Food, North Indian, Chinese, Continental</td>\n",
       "      <td>600</td>\n",
       "      <td>0</td>\n",
       "      <td>3.7</td>\n",
       "      <td>142</td>\n",
       "      <td>600.000000</td>\n",
       "    </tr>\n",
       "    <tr>\n",
       "      <th>7648</th>\n",
       "      <td>Noida</td>\n",
       "      <td>Awadhi, North Indian</td>\n",
       "      <td>300</td>\n",
       "      <td>0</td>\n",
       "      <td>0.0</td>\n",
       "      <td>2</td>\n",
       "      <td>300.000000</td>\n",
       "    </tr>\n",
       "    <tr>\n",
       "      <th>7649</th>\n",
       "      <td>Noida</td>\n",
       "      <td>Tibetan, Street Food</td>\n",
       "      <td>100</td>\n",
       "      <td>0</td>\n",
       "      <td>0.0</td>\n",
       "      <td>1</td>\n",
       "      <td>100.000000</td>\n",
       "    </tr>\n",
       "    <tr>\n",
       "      <th>7650</th>\n",
       "      <td>Noida</td>\n",
       "      <td>Mexican, Italian</td>\n",
       "      <td>500</td>\n",
       "      <td>0</td>\n",
       "      <td>0.0</td>\n",
       "      <td>0</td>\n",
       "      <td>500.000000</td>\n",
       "    </tr>\n",
       "    <tr>\n",
       "      <th>7651</th>\n",
       "      <td>Noida</td>\n",
       "      <td>Cafe, Mexican</td>\n",
       "      <td>550</td>\n",
       "      <td>0</td>\n",
       "      <td>0.0</td>\n",
       "      <td>2</td>\n",
       "      <td>550.000000</td>\n",
       "    </tr>\n",
       "    <tr>\n",
       "      <th>7652</th>\n",
       "      <td>Noida</td>\n",
       "      <td>North Indian, Mughlai, Chinese, Raw Meats</td>\n",
       "      <td>600</td>\n",
       "      <td>0</td>\n",
       "      <td>2.9</td>\n",
       "      <td>25</td>\n",
       "      <td>600.000000</td>\n",
       "    </tr>\n",
       "    <tr>\n",
       "      <th>7653</th>\n",
       "      <td>Noida</td>\n",
       "      <td>Continental, Fast Food, Asian, Italian</td>\n",
       "      <td>500</td>\n",
       "      <td>0</td>\n",
       "      <td>3.8</td>\n",
       "      <td>200</td>\n",
       "      <td>500.000000</td>\n",
       "    </tr>\n",
       "    <tr>\n",
       "      <th>7654</th>\n",
       "      <td>Noida</td>\n",
       "      <td>North Indian, South Indian, Chinese, Street Fo...</td>\n",
       "      <td>500</td>\n",
       "      <td>0</td>\n",
       "      <td>2.4</td>\n",
       "      <td>77</td>\n",
       "      <td>500.000000</td>\n",
       "    </tr>\n",
       "    <tr>\n",
       "      <th>7655</th>\n",
       "      <td>Noida</td>\n",
       "      <td>North Indian, Chinese, Italian, Thai</td>\n",
       "      <td>500</td>\n",
       "      <td>0</td>\n",
       "      <td>0.0</td>\n",
       "      <td>0</td>\n",
       "      <td>500.000000</td>\n",
       "    </tr>\n",
       "    <tr>\n",
       "      <th>7656</th>\n",
       "      <td>Noida</td>\n",
       "      <td>Mithai, North Indian, Chinese</td>\n",
       "      <td>400</td>\n",
       "      <td>0</td>\n",
       "      <td>2.9</td>\n",
       "      <td>4</td>\n",
       "      <td>400.000000</td>\n",
       "    </tr>\n",
       "    <tr>\n",
       "      <th>7657</th>\n",
       "      <td>Noida</td>\n",
       "      <td>Fast Food, Italian, Desserts, Beverages</td>\n",
       "      <td>350</td>\n",
       "      <td>0</td>\n",
       "      <td>3.3</td>\n",
       "      <td>12</td>\n",
       "      <td>350.000000</td>\n",
       "    </tr>\n",
       "    <tr>\n",
       "      <th>7658</th>\n",
       "      <td>Noida</td>\n",
       "      <td>Kashmiri, Chinese</td>\n",
       "      <td>500</td>\n",
       "      <td>0</td>\n",
       "      <td>3.1</td>\n",
       "      <td>6</td>\n",
       "      <td>500.000000</td>\n",
       "    </tr>\n",
       "    <tr>\n",
       "      <th>7659</th>\n",
       "      <td>Noida</td>\n",
       "      <td>Bakery, North Indian</td>\n",
       "      <td>250</td>\n",
       "      <td>0</td>\n",
       "      <td>0.0</td>\n",
       "      <td>0</td>\n",
       "      <td>250.000000</td>\n",
       "    </tr>\n",
       "    <tr>\n",
       "      <th>7660</th>\n",
       "      <td>Noida</td>\n",
       "      <td>Italian, Continental, American</td>\n",
       "      <td>500</td>\n",
       "      <td>0</td>\n",
       "      <td>0.0</td>\n",
       "      <td>0</td>\n",
       "      <td>500.000000</td>\n",
       "    </tr>\n",
       "    <tr>\n",
       "      <th>7661</th>\n",
       "      <td>Noida</td>\n",
       "      <td>Lucknowi, Mughlai, North Indian</td>\n",
       "      <td>500</td>\n",
       "      <td>0</td>\n",
       "      <td>0.0</td>\n",
       "      <td>0</td>\n",
       "      <td>500.000000</td>\n",
       "    </tr>\n",
       "    <tr>\n",
       "      <th>7662</th>\n",
       "      <td>Noida</td>\n",
       "      <td>North Indian, Chinese, Kashmiri</td>\n",
       "      <td>600</td>\n",
       "      <td>0</td>\n",
       "      <td>0.0</td>\n",
       "      <td>3</td>\n",
       "      <td>600.000000</td>\n",
       "    </tr>\n",
       "    <tr>\n",
       "      <th>7663</th>\n",
       "      <td>Noida</td>\n",
       "      <td>Mithai, Beverages</td>\n",
       "      <td>200</td>\n",
       "      <td>0</td>\n",
       "      <td>3.4</td>\n",
       "      <td>23</td>\n",
       "      <td>200.000000</td>\n",
       "    </tr>\n",
       "    <tr>\n",
       "      <th>7664</th>\n",
       "      <td>Noida</td>\n",
       "      <td>North Indian, Chinese, Mediterranean, Asian, C...</td>\n",
       "      <td>1300</td>\n",
       "      <td>0</td>\n",
       "      <td>3.9</td>\n",
       "      <td>1088</td>\n",
       "      <td>1300.000000</td>\n",
       "    </tr>\n",
       "    <tr>\n",
       "      <th>7665</th>\n",
       "      <td>Noida</td>\n",
       "      <td>North Indian, South Indian, Bakery, Beverages</td>\n",
       "      <td>500</td>\n",
       "      <td>0</td>\n",
       "      <td>0.0</td>\n",
       "      <td>2</td>\n",
       "      <td>500.000000</td>\n",
       "    </tr>\n",
       "    <tr>\n",
       "      <th>7666</th>\n",
       "      <td>Noida</td>\n",
       "      <td>European, North Indian, Chinese</td>\n",
       "      <td>2500</td>\n",
       "      <td>1</td>\n",
       "      <td>2.2</td>\n",
       "      <td>116</td>\n",
       "      <td>2500.000000</td>\n",
       "    </tr>\n",
       "    <tr>\n",
       "      <th>7667</th>\n",
       "      <td>Noida</td>\n",
       "      <td>Juices, Beverages, Fast Food</td>\n",
       "      <td>200</td>\n",
       "      <td>0</td>\n",
       "      <td>3.0</td>\n",
       "      <td>10</td>\n",
       "      <td>200.000000</td>\n",
       "    </tr>\n",
       "    <tr>\n",
       "      <th>7668</th>\n",
       "      <td>Noida</td>\n",
       "      <td>Bakery, Desserts, Fast Food, North Indian</td>\n",
       "      <td>450</td>\n",
       "      <td>0</td>\n",
       "      <td>3.5</td>\n",
       "      <td>105</td>\n",
       "      <td>450.000000</td>\n",
       "    </tr>\n",
       "    <tr>\n",
       "      <th>7669</th>\n",
       "      <td>Noida</td>\n",
       "      <td>Continental, Lebanese, Mexican</td>\n",
       "      <td>1000</td>\n",
       "      <td>1</td>\n",
       "      <td>0.0</td>\n",
       "      <td>0</td>\n",
       "      <td>1000.000000</td>\n",
       "    </tr>\n",
       "    <tr>\n",
       "      <th>7670</th>\n",
       "      <td>Noida</td>\n",
       "      <td>Chinese, North Indian, South Indian, Fast Food</td>\n",
       "      <td>450</td>\n",
       "      <td>0</td>\n",
       "      <td>2.0</td>\n",
       "      <td>161</td>\n",
       "      <td>450.000000</td>\n",
       "    </tr>\n",
       "  </tbody>\n",
       "</table>\n",
       "<p>7671 rows × 7 columns</p>\n",
       "</div>"
      ],
      "text/plain": [
       "           City                                           Cuisines  \\\n",
       "0       Gurgaon                                    Cafe, Beverages   \n",
       "1     New Delhi                                    Cafe, Beverages   \n",
       "2     New Delhi                                    Cafe, Beverages   \n",
       "3       Gurgaon                              North Indian, Mughlai   \n",
       "4       Gurgaon                              North Indian, Mughlai   \n",
       "5       Gurgaon                              North Indian, Mughlai   \n",
       "6       Gurgaon                              North Indian, Mughlai   \n",
       "7       Gurgaon                              North Indian, Mughlai   \n",
       "8       Gurgaon                              North Indian, Mughlai   \n",
       "9       Gurgaon                              North Indian, Mughlai   \n",
       "10      Gurgaon                              North Indian, Mughlai   \n",
       "11      Gurgaon                              North Indian, Mughlai   \n",
       "12      Gurgaon                              North Indian, Mughlai   \n",
       "13      Gurgaon                              North Indian, Mughlai   \n",
       "14      Gurgaon                              North Indian, Mughlai   \n",
       "15      Gurgaon                              North Indian, Mughlai   \n",
       "16      Gurgaon                              North Indian, Mughlai   \n",
       "17      Gurgaon                              North Indian, Mughlai   \n",
       "18      Gurgaon                              North Indian, Mughlai   \n",
       "19      Gurgaon                              North Indian, Mughlai   \n",
       "20      Gurgaon                              North Indian, Mughlai   \n",
       "21      Gurgaon                              North Indian, Mughlai   \n",
       "22      Gurgaon                              North Indian, Mughlai   \n",
       "23      Gurgaon                              North Indian, Mughlai   \n",
       "24      Gurgaon                              North Indian, Mughlai   \n",
       "25      Gurgaon                              North Indian, Mughlai   \n",
       "26      Gurgaon                              North Indian, Mughlai   \n",
       "27      Gurgaon                              North Indian, Mughlai   \n",
       "28      Gurgaon                              North Indian, Mughlai   \n",
       "29      Gurgaon                              North Indian, Mughlai   \n",
       "...         ...                                                ...   \n",
       "7641      Noida           American, Italian, North Indian, Chinese   \n",
       "7642      Noida                     North Indian, Mughlai, Mughlai   \n",
       "7643      Noida                                 Salad, Continental   \n",
       "7644      Noida                               Continental, Chinese   \n",
       "7645      Noida             North Indian, Healthy Food, Rajasthani   \n",
       "7646      Noida    Fast Food, Cafe, Italian, North Indian, Chinese   \n",
       "7647      Noida   Healthy Food, North Indian, Chinese, Continental   \n",
       "7648      Noida                               Awadhi, North Indian   \n",
       "7649      Noida                               Tibetan, Street Food   \n",
       "7650      Noida                                   Mexican, Italian   \n",
       "7651      Noida                                      Cafe, Mexican   \n",
       "7652      Noida          North Indian, Mughlai, Chinese, Raw Meats   \n",
       "7653      Noida             Continental, Fast Food, Asian, Italian   \n",
       "7654      Noida  North Indian, South Indian, Chinese, Street Fo...   \n",
       "7655      Noida               North Indian, Chinese, Italian, Thai   \n",
       "7656      Noida                      Mithai, North Indian, Chinese   \n",
       "7657      Noida            Fast Food, Italian, Desserts, Beverages   \n",
       "7658      Noida                                  Kashmiri, Chinese   \n",
       "7659      Noida                               Bakery, North Indian   \n",
       "7660      Noida                     Italian, Continental, American   \n",
       "7661      Noida                    Lucknowi, Mughlai, North Indian   \n",
       "7662      Noida                    North Indian, Chinese, Kashmiri   \n",
       "7663      Noida                                  Mithai, Beverages   \n",
       "7664      Noida  North Indian, Chinese, Mediterranean, Asian, C...   \n",
       "7665      Noida      North Indian, South Indian, Bakery, Beverages   \n",
       "7666      Noida                    European, North Indian, Chinese   \n",
       "7667      Noida                       Juices, Beverages, Fast Food   \n",
       "7668      Noida          Bakery, Desserts, Fast Food, North Indian   \n",
       "7669      Noida                     Continental, Lebanese, Mexican   \n",
       "7670      Noida     Chinese, North Indian, South Indian, Fast Food   \n",
       "\n",
       "      Average Cost for two_x  Has Table booking  Aggregate rating  Votes  \\\n",
       "0                        350                  0               3.4     16   \n",
       "1                        200                  0               0.0      0   \n",
       "2                        700                  0               4.1     92   \n",
       "3                        800                  1               2.7     80   \n",
       "4                       2000                  1               4.3   1887   \n",
       "5                       1500                  1               4.0   1595   \n",
       "6                        700                  1               3.8    239   \n",
       "7                        600                  0               2.9      5   \n",
       "8                        650                  0               3.2     15   \n",
       "9                        600                  0               3.3     23   \n",
       "10                       750                  0               3.6    213   \n",
       "11                       600                  0               4.0     88   \n",
       "12                       650                  0               4.1    152   \n",
       "13                      1600                  0               4.1    229   \n",
       "14                       800                  0               2.6     26   \n",
       "15                      2000                  1               4.0    111   \n",
       "16                       900                  0               3.6    110   \n",
       "17                       450                  0               3.4    260   \n",
       "18                       600                  0               3.8    121   \n",
       "19                       800                  0               2.7     67   \n",
       "20                       800                  0               2.7     11   \n",
       "21                       550                  0               3.5     31   \n",
       "22                       400                  0               0.0      1   \n",
       "23                      3000                  1               3.7    340   \n",
       "24                       700                  0               2.8     16   \n",
       "25                       900                  1               3.0     61   \n",
       "26                       350                  0               0.0      2   \n",
       "27                       500                  0               0.0      3   \n",
       "28                       800                  0               3.4   1022   \n",
       "29                      1400                  1               3.3    586   \n",
       "...                      ...                ...               ...    ...   \n",
       "7641                     500                  0               0.0      3   \n",
       "7642                     600                  0               0.0      2   \n",
       "7643                     500                  0               4.1     43   \n",
       "7644                     500                  0               3.0      4   \n",
       "7645                     400                  0               3.1     10   \n",
       "7646                     550                  0               3.2     48   \n",
       "7647                     600                  0               3.7    142   \n",
       "7648                     300                  0               0.0      2   \n",
       "7649                     100                  0               0.0      1   \n",
       "7650                     500                  0               0.0      0   \n",
       "7651                     550                  0               0.0      2   \n",
       "7652                     600                  0               2.9     25   \n",
       "7653                     500                  0               3.8    200   \n",
       "7654                     500                  0               2.4     77   \n",
       "7655                     500                  0               0.0      0   \n",
       "7656                     400                  0               2.9      4   \n",
       "7657                     350                  0               3.3     12   \n",
       "7658                     500                  0               3.1      6   \n",
       "7659                     250                  0               0.0      0   \n",
       "7660                     500                  0               0.0      0   \n",
       "7661                     500                  0               0.0      0   \n",
       "7662                     600                  0               0.0      3   \n",
       "7663                     200                  0               3.4     23   \n",
       "7664                    1300                  0               3.9   1088   \n",
       "7665                     500                  0               0.0      2   \n",
       "7666                    2500                  1               2.2    116   \n",
       "7667                     200                  0               3.0     10   \n",
       "7668                     450                  0               3.5    105   \n",
       "7669                    1000                  1               0.0      0   \n",
       "7670                     450                  0               2.0    161   \n",
       "\n",
       "      Average Cost for two_y  \n",
       "0                 416.666667  \n",
       "1                 416.666667  \n",
       "2                 416.666667  \n",
       "3                 755.511551  \n",
       "4                 755.511551  \n",
       "5                 755.511551  \n",
       "6                 755.511551  \n",
       "7                 755.511551  \n",
       "8                 755.511551  \n",
       "9                 755.511551  \n",
       "10                755.511551  \n",
       "11                755.511551  \n",
       "12                755.511551  \n",
       "13                755.511551  \n",
       "14                755.511551  \n",
       "15                755.511551  \n",
       "16                755.511551  \n",
       "17                755.511551  \n",
       "18                755.511551  \n",
       "19                755.511551  \n",
       "20                755.511551  \n",
       "21                755.511551  \n",
       "22                755.511551  \n",
       "23                755.511551  \n",
       "24                755.511551  \n",
       "25                755.511551  \n",
       "26                755.511551  \n",
       "27                755.511551  \n",
       "28                755.511551  \n",
       "29                755.511551  \n",
       "...                      ...  \n",
       "7641              500.000000  \n",
       "7642              600.000000  \n",
       "7643              500.000000  \n",
       "7644              500.000000  \n",
       "7645              400.000000  \n",
       "7646              550.000000  \n",
       "7647              600.000000  \n",
       "7648              300.000000  \n",
       "7649              100.000000  \n",
       "7650              500.000000  \n",
       "7651              550.000000  \n",
       "7652              600.000000  \n",
       "7653              500.000000  \n",
       "7654              500.000000  \n",
       "7655              500.000000  \n",
       "7656              400.000000  \n",
       "7657              350.000000  \n",
       "7658              500.000000  \n",
       "7659              250.000000  \n",
       "7660              500.000000  \n",
       "7661              500.000000  \n",
       "7662              600.000000  \n",
       "7663              200.000000  \n",
       "7664             1300.000000  \n",
       "7665              500.000000  \n",
       "7666             2500.000000  \n",
       "7667              200.000000  \n",
       "7668              450.000000  \n",
       "7669             1000.000000  \n",
       "7670              450.000000  \n",
       "\n",
       "[7671 rows x 7 columns]"
      ]
     },
     "execution_count": 40,
     "metadata": {},
     "output_type": "execute_result"
    }
   ],
   "source": [
    "data.merge(cuisine,on='Cuisines')"
   ]
  },
  {
   "cell_type": "code",
   "execution_count": 41,
   "metadata": {},
   "outputs": [],
   "source": [
    "new_data=data.merge(cuisine,on='Cuisines')"
   ]
  },
  {
   "cell_type": "code",
   "execution_count": 42,
   "metadata": {},
   "outputs": [],
   "source": [
    "new_data.drop(columns=['Cuisines'],inplace=True)"
   ]
  },
  {
   "cell_type": "code",
   "execution_count": 43,
   "metadata": {},
   "outputs": [
    {
     "data": {
      "text/html": [
       "<div>\n",
       "<style scoped>\n",
       "    .dataframe tbody tr th:only-of-type {\n",
       "        vertical-align: middle;\n",
       "    }\n",
       "\n",
       "    .dataframe tbody tr th {\n",
       "        vertical-align: top;\n",
       "    }\n",
       "\n",
       "    .dataframe thead th {\n",
       "        text-align: right;\n",
       "    }\n",
       "</style>\n",
       "<table border=\"1\" class=\"dataframe\">\n",
       "  <thead>\n",
       "    <tr style=\"text-align: right;\">\n",
       "      <th></th>\n",
       "      <th>City</th>\n",
       "      <th>Average Cost for two_x</th>\n",
       "      <th>Has Table booking</th>\n",
       "      <th>Aggregate rating</th>\n",
       "      <th>Votes</th>\n",
       "      <th>Average Cost for two_y</th>\n",
       "    </tr>\n",
       "  </thead>\n",
       "  <tbody>\n",
       "    <tr>\n",
       "      <th>0</th>\n",
       "      <td>Gurgaon</td>\n",
       "      <td>350</td>\n",
       "      <td>0</td>\n",
       "      <td>3.4</td>\n",
       "      <td>16</td>\n",
       "      <td>416.666667</td>\n",
       "    </tr>\n",
       "    <tr>\n",
       "      <th>1</th>\n",
       "      <td>New Delhi</td>\n",
       "      <td>200</td>\n",
       "      <td>0</td>\n",
       "      <td>0.0</td>\n",
       "      <td>0</td>\n",
       "      <td>416.666667</td>\n",
       "    </tr>\n",
       "  </tbody>\n",
       "</table>\n",
       "</div>"
      ],
      "text/plain": [
       "        City  Average Cost for two_x  Has Table booking  Aggregate rating  \\\n",
       "0    Gurgaon                     350                  0               3.4   \n",
       "1  New Delhi                     200                  0               0.0   \n",
       "\n",
       "   Votes  Average Cost for two_y  \n",
       "0     16              416.666667  \n",
       "1      0              416.666667  "
      ]
     },
     "execution_count": 43,
     "metadata": {},
     "output_type": "execute_result"
    }
   ],
   "source": [
    "new_data.head(2)"
   ]
  },
  {
   "cell_type": "code",
   "execution_count": 44,
   "metadata": {},
   "outputs": [],
   "source": [
    "new_data.rename(columns={'Average Cost for two_x':'cost','Average Cost for two_y':'cuisine'},inplace=True)"
   ]
  },
  {
   "cell_type": "code",
   "execution_count": 45,
   "metadata": {},
   "outputs": [
    {
     "data": {
      "text/html": [
       "<div>\n",
       "<style scoped>\n",
       "    .dataframe tbody tr th:only-of-type {\n",
       "        vertical-align: middle;\n",
       "    }\n",
       "\n",
       "    .dataframe tbody tr th {\n",
       "        vertical-align: top;\n",
       "    }\n",
       "\n",
       "    .dataframe thead th {\n",
       "        text-align: right;\n",
       "    }\n",
       "</style>\n",
       "<table border=\"1\" class=\"dataframe\">\n",
       "  <thead>\n",
       "    <tr style=\"text-align: right;\">\n",
       "      <th></th>\n",
       "      <th>City</th>\n",
       "      <th>cost</th>\n",
       "      <th>Has Table booking</th>\n",
       "      <th>Aggregate rating</th>\n",
       "      <th>Votes</th>\n",
       "      <th>cuisine</th>\n",
       "    </tr>\n",
       "  </thead>\n",
       "  <tbody>\n",
       "    <tr>\n",
       "      <th>0</th>\n",
       "      <td>Gurgaon</td>\n",
       "      <td>350</td>\n",
       "      <td>0</td>\n",
       "      <td>3.4</td>\n",
       "      <td>16</td>\n",
       "      <td>416.666667</td>\n",
       "    </tr>\n",
       "    <tr>\n",
       "      <th>1</th>\n",
       "      <td>New Delhi</td>\n",
       "      <td>200</td>\n",
       "      <td>0</td>\n",
       "      <td>0.0</td>\n",
       "      <td>0</td>\n",
       "      <td>416.666667</td>\n",
       "    </tr>\n",
       "  </tbody>\n",
       "</table>\n",
       "</div>"
      ],
      "text/plain": [
       "        City  cost  Has Table booking  Aggregate rating  Votes     cuisine\n",
       "0    Gurgaon   350                  0               3.4     16  416.666667\n",
       "1  New Delhi   200                  0               0.0      0  416.666667"
      ]
     },
     "execution_count": 45,
     "metadata": {},
     "output_type": "execute_result"
    }
   ],
   "source": [
    "new_data.head(2)"
   ]
  },
  {
   "cell_type": "code",
   "execution_count": 46,
   "metadata": {},
   "outputs": [],
   "source": [
    "new_data=new_data[['City','Has Table booking','Aggregate rating','Votes','cuisine','cost']]"
   ]
  },
  {
   "cell_type": "code",
   "execution_count": 47,
   "metadata": {},
   "outputs": [
    {
     "data": {
      "text/html": [
       "<div>\n",
       "<style scoped>\n",
       "    .dataframe tbody tr th:only-of-type {\n",
       "        vertical-align: middle;\n",
       "    }\n",
       "\n",
       "    .dataframe tbody tr th {\n",
       "        vertical-align: top;\n",
       "    }\n",
       "\n",
       "    .dataframe thead th {\n",
       "        text-align: right;\n",
       "    }\n",
       "</style>\n",
       "<table border=\"1\" class=\"dataframe\">\n",
       "  <thead>\n",
       "    <tr style=\"text-align: right;\">\n",
       "      <th></th>\n",
       "      <th>City</th>\n",
       "      <th>Has Table booking</th>\n",
       "      <th>Aggregate rating</th>\n",
       "      <th>Votes</th>\n",
       "      <th>cuisine</th>\n",
       "      <th>cost</th>\n",
       "    </tr>\n",
       "  </thead>\n",
       "  <tbody>\n",
       "    <tr>\n",
       "      <th>0</th>\n",
       "      <td>Gurgaon</td>\n",
       "      <td>0</td>\n",
       "      <td>3.4</td>\n",
       "      <td>16</td>\n",
       "      <td>416.666667</td>\n",
       "      <td>350</td>\n",
       "    </tr>\n",
       "    <tr>\n",
       "      <th>1</th>\n",
       "      <td>New Delhi</td>\n",
       "      <td>0</td>\n",
       "      <td>0.0</td>\n",
       "      <td>0</td>\n",
       "      <td>416.666667</td>\n",
       "      <td>200</td>\n",
       "    </tr>\n",
       "  </tbody>\n",
       "</table>\n",
       "</div>"
      ],
      "text/plain": [
       "        City  Has Table booking  Aggregate rating  Votes     cuisine  cost\n",
       "0    Gurgaon                  0               3.4     16  416.666667   350\n",
       "1  New Delhi                  0               0.0      0  416.666667   200"
      ]
     },
     "execution_count": 47,
     "metadata": {},
     "output_type": "execute_result"
    }
   ],
   "source": [
    "new_data.head(2)"
   ]
  },
  {
   "cell_type": "code",
   "execution_count": 48,
   "metadata": {},
   "outputs": [],
   "source": [
    "X=new_data.iloc[:,:-1].values\n",
    "y=new_data.iloc[:, -1].values"
   ]
  },
  {
   "cell_type": "code",
   "execution_count": 49,
   "metadata": {},
   "outputs": [
    {
     "data": {
      "text/plain": [
       "array([['Gurgaon', 0, 3.4, 16, 416.6666666666667],\n",
       "       ['New Delhi', 0, 0.0, 0, 416.6666666666667],\n",
       "       ['New Delhi', 0, 4.1, 92, 416.6666666666667],\n",
       "       ...,\n",
       "       ['Noida', 0, 3.5, 105, 450.0],\n",
       "       ['Noida', 1, 0.0, 0, 1000.0],\n",
       "       ['Noida', 0, 2.0, 161, 450.0]], dtype=object)"
      ]
     },
     "execution_count": 49,
     "metadata": {},
     "output_type": "execute_result"
    }
   ],
   "source": [
    "X"
   ]
  },
  {
   "cell_type": "code",
   "execution_count": 50,
   "metadata": {},
   "outputs": [
    {
     "data": {
      "text/plain": [
       "array([ 350,  200,  700, ...,  450, 1000,  450], dtype=int64)"
      ]
     },
     "execution_count": 50,
     "metadata": {},
     "output_type": "execute_result"
    }
   ],
   "source": [
    "y"
   ]
  },
  {
   "cell_type": "code",
   "execution_count": 51,
   "metadata": {},
   "outputs": [],
   "source": [
    "from sklearn.preprocessing import LabelEncoder\n",
    "encoder=LabelEncoder()"
   ]
  },
  {
   "cell_type": "code",
   "execution_count": 52,
   "metadata": {},
   "outputs": [
    {
     "data": {
      "text/plain": [
       "array([[0, 0, 3.4, 16, 416.6666666666667],\n",
       "       [1, 0, 0.0, 0, 416.6666666666667],\n",
       "       [1, 0, 4.1, 92, 416.6666666666667],\n",
       "       ...,\n",
       "       [2, 0, 3.5, 105, 450.0],\n",
       "       [2, 1, 0.0, 0, 1000.0],\n",
       "       [2, 0, 2.0, 161, 450.0]], dtype=object)"
      ]
     },
     "execution_count": 52,
     "metadata": {},
     "output_type": "execute_result"
    }
   ],
   "source": [
    "X[:,0]=encoder.fit_transform(X[:,0])\n",
    "X"
   ]
  },
  {
   "cell_type": "code",
   "execution_count": 53,
   "metadata": {},
   "outputs": [
    {
     "data": {
      "text/plain": [
       "(7671, 7)"
      ]
     },
     "execution_count": 53,
     "metadata": {},
     "output_type": "execute_result"
    }
   ],
   "source": [
    "from sklearn.preprocessing import OneHotEncoder\n",
    "oencoder=OneHotEncoder(categorical_features=[0])\n",
    "X=oencoder.fit_transform(X).toarray()\n",
    "X.shape"
   ]
  },
  {
   "cell_type": "code",
   "execution_count": 54,
   "metadata": {},
   "outputs": [
    {
     "data": {
      "text/plain": [
       "(7671, 6)"
      ]
     },
     "execution_count": 54,
     "metadata": {},
     "output_type": "execute_result"
    }
   ],
   "source": [
    "X=X[:,1:]\n",
    "X.shape"
   ]
  },
  {
   "cell_type": "code",
   "execution_count": 55,
   "metadata": {},
   "outputs": [
    {
     "name": "stderr",
     "output_type": "stream",
     "text": [
      "C:\\ProgramData\\Anaconda3\\lib\\site-packages\\sklearn\\cross_validation.py:41: DeprecationWarning: This module was deprecated in version 0.18 in favor of the model_selection module into which all the refactored classes and functions are moved. Also note that the interface of the new CV iterators are different from that of this module. This module will be removed in 0.20.\n",
      "  \"This module will be removed in 0.20.\", DeprecationWarning)\n"
     ]
    }
   ],
   "source": [
    "from sklearn.cross_validation import train_test_split\n",
    "X_train,X_test,y_train,y_test=train_test_split(X,y,test_size=0.2,random_state=9)"
   ]
  },
  {
   "cell_type": "code",
   "execution_count": 56,
   "metadata": {},
   "outputs": [
    {
     "data": {
      "text/plain": [
       "(6136, 6)"
      ]
     },
     "execution_count": 56,
     "metadata": {},
     "output_type": "execute_result"
    }
   ],
   "source": [
    "X_train.shape"
   ]
  },
  {
   "cell_type": "markdown",
   "metadata": {},
   "source": [
    "# Using Linear Regression"
   ]
  },
  {
   "cell_type": "code",
   "execution_count": 57,
   "metadata": {},
   "outputs": [],
   "source": [
    "from sklearn.linear_model import LinearRegression\n",
    "regressor=LinearRegression()"
   ]
  },
  {
   "cell_type": "code",
   "execution_count": 58,
   "metadata": {},
   "outputs": [
    {
     "data": {
      "text/plain": [
       "LinearRegression(copy_X=True, fit_intercept=True, n_jobs=1, normalize=False)"
      ]
     },
     "execution_count": 58,
     "metadata": {},
     "output_type": "execute_result"
    }
   ],
   "source": [
    "regressor.fit(X_train,y_train)"
   ]
  },
  {
   "cell_type": "code",
   "execution_count": 59,
   "metadata": {},
   "outputs": [],
   "source": [
    "y_pred=regressor.predict(X_test)"
   ]
  },
  {
   "cell_type": "code",
   "execution_count": 60,
   "metadata": {},
   "outputs": [
    {
     "name": "stdout",
     "output_type": "stream",
     "text": [
      "Test Score: 0.7152821016045735\n"
     ]
    }
   ],
   "source": [
    "print('Test Score:',regressor.score(X_train,y_train))"
   ]
  },
  {
   "cell_type": "code",
   "execution_count": 61,
   "metadata": {},
   "outputs": [
    {
     "name": "stdout",
     "output_type": "stream",
     "text": [
      "Train Score: 0.7189272138600126\n"
     ]
    }
   ],
   "source": [
    "print('Train Score:',regressor.score(X_test,y_test))"
   ]
  },
  {
   "cell_type": "code",
   "execution_count": 62,
   "metadata": {},
   "outputs": [],
   "source": [
    "from sklearn.metrics import r2_score"
   ]
  },
  {
   "cell_type": "code",
   "execution_count": 63,
   "metadata": {},
   "outputs": [
    {
     "data": {
      "text/plain": [
       "0.7189272138600126"
      ]
     },
     "execution_count": 63,
     "metadata": {},
     "output_type": "execute_result"
    }
   ],
   "source": [
    "r2_score(y_test,y_pred)"
   ]
  },
  {
   "cell_type": "markdown",
   "metadata": {},
   "source": [
    "# Using Random Forest Regressor"
   ]
  },
  {
   "cell_type": "code",
   "execution_count": 115,
   "metadata": {},
   "outputs": [],
   "source": [
    "from sklearn.ensemble import RandomForestRegressor\n",
    "regressor1=RandomForestRegressor(n_estimators=200)"
   ]
  },
  {
   "cell_type": "code",
   "execution_count": 116,
   "metadata": {},
   "outputs": [
    {
     "data": {
      "text/plain": [
       "RandomForestRegressor(bootstrap=True, criterion='mse', max_depth=None,\n",
       "           max_features='auto', max_leaf_nodes=None,\n",
       "           min_impurity_decrease=0.0, min_impurity_split=None,\n",
       "           min_samples_leaf=1, min_samples_split=2,\n",
       "           min_weight_fraction_leaf=0.0, n_estimators=200, n_jobs=1,\n",
       "           oob_score=False, random_state=None, verbose=0, warm_start=False)"
      ]
     },
     "execution_count": 116,
     "metadata": {},
     "output_type": "execute_result"
    }
   ],
   "source": [
    "regressor1.fit(X_train,y_train)"
   ]
  },
  {
   "cell_type": "code",
   "execution_count": 117,
   "metadata": {},
   "outputs": [],
   "source": [
    "y_pred1=regressor1.predict(X_test)"
   ]
  },
  {
   "cell_type": "code",
   "execution_count": 67,
   "metadata": {},
   "outputs": [
    {
     "data": {
      "text/plain": [
       "0.6697312136120144"
      ]
     },
     "execution_count": 67,
     "metadata": {},
     "output_type": "execute_result"
    }
   ],
   "source": [
    "r2_score(y_test,y_pred1)"
   ]
  },
  {
   "cell_type": "markdown",
   "metadata": {},
   "source": [
    "# Using Decision Tree Regressor"
   ]
  },
  {
   "cell_type": "code",
   "execution_count": 118,
   "metadata": {},
   "outputs": [],
   "source": [
    "from sklearn.tree import DecisionTreeRegressor\n",
    "regressor2=DecisionTreeRegressor()"
   ]
  },
  {
   "cell_type": "code",
   "execution_count": 119,
   "metadata": {},
   "outputs": [
    {
     "data": {
      "text/plain": [
       "DecisionTreeRegressor(criterion='mse', max_depth=None, max_features=None,\n",
       "           max_leaf_nodes=None, min_impurity_decrease=0.0,\n",
       "           min_impurity_split=None, min_samples_leaf=1,\n",
       "           min_samples_split=2, min_weight_fraction_leaf=0.0,\n",
       "           presort=False, random_state=None, splitter='best')"
      ]
     },
     "execution_count": 119,
     "metadata": {},
     "output_type": "execute_result"
    }
   ],
   "source": [
    "regressor2.fit(X_train,y_train)"
   ]
  },
  {
   "cell_type": "code",
   "execution_count": 120,
   "metadata": {},
   "outputs": [],
   "source": [
    "y_pred2=regressor2.predict(X_test)"
   ]
  },
  {
   "cell_type": "code",
   "execution_count": 71,
   "metadata": {},
   "outputs": [
    {
     "data": {
      "text/plain": [
       "0.47910052997593533"
      ]
     },
     "execution_count": 71,
     "metadata": {},
     "output_type": "execute_result"
    }
   ],
   "source": [
    "r2_score(y_test,y_pred2)"
   ]
  },
  {
   "cell_type": "code",
   "execution_count": null,
   "metadata": {},
   "outputs": [],
   "source": []
  }
 ],
 "metadata": {
  "kernelspec": {
   "display_name": "Python 3",
   "language": "python",
   "name": "python3"
  },
  "language_info": {
   "codemirror_mode": {
    "name": "ipython",
    "version": 3
   },
   "file_extension": ".py",
   "mimetype": "text/x-python",
   "name": "python",
   "nbconvert_exporter": "python",
   "pygments_lexer": "ipython3",
   "version": "3.6.4"
  }
 },
 "nbformat": 4,
 "nbformat_minor": 2
}
